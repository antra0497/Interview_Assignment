{
  "nbformat": 4,
  "nbformat_minor": 0,
  "metadata": {
    "colab": {
      "provenance": [],
      "mount_file_id": "1H7My-wIvhnXWF3GHDhJC7FLd3kQvTOCG",
      "authorship_tag": "ABX9TyM5gUxzmMT4OUBBvMMQvTOi",
      "include_colab_link": true
    },
    "kernelspec": {
      "name": "python3",
      "display_name": "Python 3"
    },
    "language_info": {
      "name": "python"
    }
  },
  "cells": [
    {
      "cell_type": "markdown",
      "metadata": {
        "id": "view-in-github",
        "colab_type": "text"
      },
      "source": [
        "<a href=\"https://colab.research.google.com/github/antra0497/Interview_Assignment_FandP/blob/main/fandp.ipynb\" target=\"_parent\"><img src=\"https://colab.research.google.com/assets/colab-badge.svg\" alt=\"Open In Colab\"/></a>"
      ]
    },
    {
      "cell_type": "markdown",
      "source": [
        "### Importing Libraries"
      ],
      "metadata": {
        "id": "l9EkcoWiGzoU"
      }
    },
    {
      "cell_type": "code",
      "execution_count": 1,
      "metadata": {
        "id": "8f3yxgyyHfCd"
      },
      "outputs": [],
      "source": [
        "import pandas as pd"
      ]
    },
    {
      "cell_type": "markdown",
      "source": [
        "### Loading Json files"
      ],
      "metadata": {
        "id": "Z5kiFkZtG9yf"
      }
    },
    {
      "cell_type": "code",
      "source": [
        "df_indoor = pd.read_json('/content/drive/MyDrive/Colab Notebooks/fandp/iaq.json')\n",
        "df_outdoor = pd.read_json('/content/drive/MyDrive/Colab Notebooks/fandp/oaq.json')\n",
        "df_floor = pd.read_json('/content/drive/MyDrive/Colab Notebooks/fandp/floors.json')"
      ],
      "metadata": {
        "id": "pGHsiX7yIlV5"
      },
      "execution_count": 26,
      "outputs": []
    },
    {
      "cell_type": "code",
      "source": [
        "df_indoor.head(5)"
      ],
      "metadata": {
        "colab": {
          "base_uri": "https://localhost:8080/",
          "height": 206
        },
        "id": "hmglOnGbHGKr",
        "outputId": "aa0e9f09-5bf5-4375-d100-503fde2fbf0c"
      },
      "execution_count": 27,
      "outputs": [
        {
          "output_type": "execute_result",
          "data": {
            "text/plain": [
              "               documentTime  temp  humidity  co2     sensor_id\n",
              "0  2023-01-23T00:03:37.000Z  23.5        22  788  ENKZYW001792\n",
              "1  2023-01-23T00:00:48.000Z  23.6        23  778  ENKZYW001804\n",
              "2  2023-01-23T00:04:53.000Z  22.0        25  785  ENKZYW001882\n",
              "3  2023-01-23T00:01:33.000Z  23.2        47  449  ENKZYW001856\n",
              "4  2023-01-23T00:04:29.000Z  22.8        23  780  ENKZYW001848"
            ],
            "text/html": [
              "\n",
              "  <div id=\"df-ed164330-175b-475d-bea1-f187b46ee57e\">\n",
              "    <div class=\"colab-df-container\">\n",
              "      <div>\n",
              "<style scoped>\n",
              "    .dataframe tbody tr th:only-of-type {\n",
              "        vertical-align: middle;\n",
              "    }\n",
              "\n",
              "    .dataframe tbody tr th {\n",
              "        vertical-align: top;\n",
              "    }\n",
              "\n",
              "    .dataframe thead th {\n",
              "        text-align: right;\n",
              "    }\n",
              "</style>\n",
              "<table border=\"1\" class=\"dataframe\">\n",
              "  <thead>\n",
              "    <tr style=\"text-align: right;\">\n",
              "      <th></th>\n",
              "      <th>documentTime</th>\n",
              "      <th>temp</th>\n",
              "      <th>humidity</th>\n",
              "      <th>co2</th>\n",
              "      <th>sensor_id</th>\n",
              "    </tr>\n",
              "  </thead>\n",
              "  <tbody>\n",
              "    <tr>\n",
              "      <th>0</th>\n",
              "      <td>2023-01-23T00:03:37.000Z</td>\n",
              "      <td>23.5</td>\n",
              "      <td>22</td>\n",
              "      <td>788</td>\n",
              "      <td>ENKZYW001792</td>\n",
              "    </tr>\n",
              "    <tr>\n",
              "      <th>1</th>\n",
              "      <td>2023-01-23T00:00:48.000Z</td>\n",
              "      <td>23.6</td>\n",
              "      <td>23</td>\n",
              "      <td>778</td>\n",
              "      <td>ENKZYW001804</td>\n",
              "    </tr>\n",
              "    <tr>\n",
              "      <th>2</th>\n",
              "      <td>2023-01-23T00:04:53.000Z</td>\n",
              "      <td>22.0</td>\n",
              "      <td>25</td>\n",
              "      <td>785</td>\n",
              "      <td>ENKZYW001882</td>\n",
              "    </tr>\n",
              "    <tr>\n",
              "      <th>3</th>\n",
              "      <td>2023-01-23T00:01:33.000Z</td>\n",
              "      <td>23.2</td>\n",
              "      <td>47</td>\n",
              "      <td>449</td>\n",
              "      <td>ENKZYW001856</td>\n",
              "    </tr>\n",
              "    <tr>\n",
              "      <th>4</th>\n",
              "      <td>2023-01-23T00:04:29.000Z</td>\n",
              "      <td>22.8</td>\n",
              "      <td>23</td>\n",
              "      <td>780</td>\n",
              "      <td>ENKZYW001848</td>\n",
              "    </tr>\n",
              "  </tbody>\n",
              "</table>\n",
              "</div>\n",
              "      <button class=\"colab-df-convert\" onclick=\"convertToInteractive('df-ed164330-175b-475d-bea1-f187b46ee57e')\"\n",
              "              title=\"Convert this dataframe to an interactive table.\"\n",
              "              style=\"display:none;\">\n",
              "        \n",
              "  <svg xmlns=\"http://www.w3.org/2000/svg\" height=\"24px\"viewBox=\"0 0 24 24\"\n",
              "       width=\"24px\">\n",
              "    <path d=\"M0 0h24v24H0V0z\" fill=\"none\"/>\n",
              "    <path d=\"M18.56 5.44l.94 2.06.94-2.06 2.06-.94-2.06-.94-.94-2.06-.94 2.06-2.06.94zm-11 1L8.5 8.5l.94-2.06 2.06-.94-2.06-.94L8.5 2.5l-.94 2.06-2.06.94zm10 10l.94 2.06.94-2.06 2.06-.94-2.06-.94-.94-2.06-.94 2.06-2.06.94z\"/><path d=\"M17.41 7.96l-1.37-1.37c-.4-.4-.92-.59-1.43-.59-.52 0-1.04.2-1.43.59L10.3 9.45l-7.72 7.72c-.78.78-.78 2.05 0 2.83L4 21.41c.39.39.9.59 1.41.59.51 0 1.02-.2 1.41-.59l7.78-7.78 2.81-2.81c.8-.78.8-2.07 0-2.86zM5.41 20L4 18.59l7.72-7.72 1.47 1.35L5.41 20z\"/>\n",
              "  </svg>\n",
              "      </button>\n",
              "      \n",
              "  <style>\n",
              "    .colab-df-container {\n",
              "      display:flex;\n",
              "      flex-wrap:wrap;\n",
              "      gap: 12px;\n",
              "    }\n",
              "\n",
              "    .colab-df-convert {\n",
              "      background-color: #E8F0FE;\n",
              "      border: none;\n",
              "      border-radius: 50%;\n",
              "      cursor: pointer;\n",
              "      display: none;\n",
              "      fill: #1967D2;\n",
              "      height: 32px;\n",
              "      padding: 0 0 0 0;\n",
              "      width: 32px;\n",
              "    }\n",
              "\n",
              "    .colab-df-convert:hover {\n",
              "      background-color: #E2EBFA;\n",
              "      box-shadow: 0px 1px 2px rgba(60, 64, 67, 0.3), 0px 1px 3px 1px rgba(60, 64, 67, 0.15);\n",
              "      fill: #174EA6;\n",
              "    }\n",
              "\n",
              "    [theme=dark] .colab-df-convert {\n",
              "      background-color: #3B4455;\n",
              "      fill: #D2E3FC;\n",
              "    }\n",
              "\n",
              "    [theme=dark] .colab-df-convert:hover {\n",
              "      background-color: #434B5C;\n",
              "      box-shadow: 0px 1px 3px 1px rgba(0, 0, 0, 0.15);\n",
              "      filter: drop-shadow(0px 1px 2px rgba(0, 0, 0, 0.3));\n",
              "      fill: #FFFFFF;\n",
              "    }\n",
              "  </style>\n",
              "\n",
              "      <script>\n",
              "        const buttonEl =\n",
              "          document.querySelector('#df-ed164330-175b-475d-bea1-f187b46ee57e button.colab-df-convert');\n",
              "        buttonEl.style.display =\n",
              "          google.colab.kernel.accessAllowed ? 'block' : 'none';\n",
              "\n",
              "        async function convertToInteractive(key) {\n",
              "          const element = document.querySelector('#df-ed164330-175b-475d-bea1-f187b46ee57e');\n",
              "          const dataTable =\n",
              "            await google.colab.kernel.invokeFunction('convertToInteractive',\n",
              "                                                     [key], {});\n",
              "          if (!dataTable) return;\n",
              "\n",
              "          const docLinkHtml = 'Like what you see? Visit the ' +\n",
              "            '<a target=\"_blank\" href=https://colab.research.google.com/notebooks/data_table.ipynb>data table notebook</a>'\n",
              "            + ' to learn more about interactive tables.';\n",
              "          element.innerHTML = '';\n",
              "          dataTable['output_type'] = 'display_data';\n",
              "          await google.colab.output.renderOutput(dataTable, element);\n",
              "          const docLink = document.createElement('div');\n",
              "          docLink.innerHTML = docLinkHtml;\n",
              "          element.appendChild(docLink);\n",
              "        }\n",
              "      </script>\n",
              "    </div>\n",
              "  </div>\n",
              "  "
            ]
          },
          "metadata": {},
          "execution_count": 27
        }
      ]
    },
    {
      "cell_type": "code",
      "source": [
        "df_outdoor.head(5)"
      ],
      "metadata": {
        "colab": {
          "base_uri": "https://localhost:8080/",
          "height": 206
        },
        "id": "r5iyCLfCHOoO",
        "outputId": "d639392a-8674-4a00-daca-6f2f2a13b67b"
      },
      "execution_count": 28,
      "outputs": [
        {
          "output_type": "execute_result",
          "data": {
            "text/plain": [
              "                documentTime  temperature  humidity  windSpeed\n",
              "0  2023-01-23T01:00:00+00:00         -1.3      89.5        NaN\n",
              "1  2023-01-23T02:00:00+00:00         -1.5      90.0        NaN\n",
              "2  2023-01-23T03:00:00+00:00         -1.8      90.0        NaN\n",
              "3  2023-01-23T04:00:00+00:00         -2.2      90.7        NaN\n",
              "4  2023-01-23T05:00:00+00:00         -2.3      91.0        NaN"
            ],
            "text/html": [
              "\n",
              "  <div id=\"df-06ac0ea1-5096-4c44-9390-3e536149996e\">\n",
              "    <div class=\"colab-df-container\">\n",
              "      <div>\n",
              "<style scoped>\n",
              "    .dataframe tbody tr th:only-of-type {\n",
              "        vertical-align: middle;\n",
              "    }\n",
              "\n",
              "    .dataframe tbody tr th {\n",
              "        vertical-align: top;\n",
              "    }\n",
              "\n",
              "    .dataframe thead th {\n",
              "        text-align: right;\n",
              "    }\n",
              "</style>\n",
              "<table border=\"1\" class=\"dataframe\">\n",
              "  <thead>\n",
              "    <tr style=\"text-align: right;\">\n",
              "      <th></th>\n",
              "      <th>documentTime</th>\n",
              "      <th>temperature</th>\n",
              "      <th>humidity</th>\n",
              "      <th>windSpeed</th>\n",
              "    </tr>\n",
              "  </thead>\n",
              "  <tbody>\n",
              "    <tr>\n",
              "      <th>0</th>\n",
              "      <td>2023-01-23T01:00:00+00:00</td>\n",
              "      <td>-1.3</td>\n",
              "      <td>89.5</td>\n",
              "      <td>NaN</td>\n",
              "    </tr>\n",
              "    <tr>\n",
              "      <th>1</th>\n",
              "      <td>2023-01-23T02:00:00+00:00</td>\n",
              "      <td>-1.5</td>\n",
              "      <td>90.0</td>\n",
              "      <td>NaN</td>\n",
              "    </tr>\n",
              "    <tr>\n",
              "      <th>2</th>\n",
              "      <td>2023-01-23T03:00:00+00:00</td>\n",
              "      <td>-1.8</td>\n",
              "      <td>90.0</td>\n",
              "      <td>NaN</td>\n",
              "    </tr>\n",
              "    <tr>\n",
              "      <th>3</th>\n",
              "      <td>2023-01-23T04:00:00+00:00</td>\n",
              "      <td>-2.2</td>\n",
              "      <td>90.7</td>\n",
              "      <td>NaN</td>\n",
              "    </tr>\n",
              "    <tr>\n",
              "      <th>4</th>\n",
              "      <td>2023-01-23T05:00:00+00:00</td>\n",
              "      <td>-2.3</td>\n",
              "      <td>91.0</td>\n",
              "      <td>NaN</td>\n",
              "    </tr>\n",
              "  </tbody>\n",
              "</table>\n",
              "</div>\n",
              "      <button class=\"colab-df-convert\" onclick=\"convertToInteractive('df-06ac0ea1-5096-4c44-9390-3e536149996e')\"\n",
              "              title=\"Convert this dataframe to an interactive table.\"\n",
              "              style=\"display:none;\">\n",
              "        \n",
              "  <svg xmlns=\"http://www.w3.org/2000/svg\" height=\"24px\"viewBox=\"0 0 24 24\"\n",
              "       width=\"24px\">\n",
              "    <path d=\"M0 0h24v24H0V0z\" fill=\"none\"/>\n",
              "    <path d=\"M18.56 5.44l.94 2.06.94-2.06 2.06-.94-2.06-.94-.94-2.06-.94 2.06-2.06.94zm-11 1L8.5 8.5l.94-2.06 2.06-.94-2.06-.94L8.5 2.5l-.94 2.06-2.06.94zm10 10l.94 2.06.94-2.06 2.06-.94-2.06-.94-.94-2.06-.94 2.06-2.06.94z\"/><path d=\"M17.41 7.96l-1.37-1.37c-.4-.4-.92-.59-1.43-.59-.52 0-1.04.2-1.43.59L10.3 9.45l-7.72 7.72c-.78.78-.78 2.05 0 2.83L4 21.41c.39.39.9.59 1.41.59.51 0 1.02-.2 1.41-.59l7.78-7.78 2.81-2.81c.8-.78.8-2.07 0-2.86zM5.41 20L4 18.59l7.72-7.72 1.47 1.35L5.41 20z\"/>\n",
              "  </svg>\n",
              "      </button>\n",
              "      \n",
              "  <style>\n",
              "    .colab-df-container {\n",
              "      display:flex;\n",
              "      flex-wrap:wrap;\n",
              "      gap: 12px;\n",
              "    }\n",
              "\n",
              "    .colab-df-convert {\n",
              "      background-color: #E8F0FE;\n",
              "      border: none;\n",
              "      border-radius: 50%;\n",
              "      cursor: pointer;\n",
              "      display: none;\n",
              "      fill: #1967D2;\n",
              "      height: 32px;\n",
              "      padding: 0 0 0 0;\n",
              "      width: 32px;\n",
              "    }\n",
              "\n",
              "    .colab-df-convert:hover {\n",
              "      background-color: #E2EBFA;\n",
              "      box-shadow: 0px 1px 2px rgba(60, 64, 67, 0.3), 0px 1px 3px 1px rgba(60, 64, 67, 0.15);\n",
              "      fill: #174EA6;\n",
              "    }\n",
              "\n",
              "    [theme=dark] .colab-df-convert {\n",
              "      background-color: #3B4455;\n",
              "      fill: #D2E3FC;\n",
              "    }\n",
              "\n",
              "    [theme=dark] .colab-df-convert:hover {\n",
              "      background-color: #434B5C;\n",
              "      box-shadow: 0px 1px 3px 1px rgba(0, 0, 0, 0.15);\n",
              "      filter: drop-shadow(0px 1px 2px rgba(0, 0, 0, 0.3));\n",
              "      fill: #FFFFFF;\n",
              "    }\n",
              "  </style>\n",
              "\n",
              "      <script>\n",
              "        const buttonEl =\n",
              "          document.querySelector('#df-06ac0ea1-5096-4c44-9390-3e536149996e button.colab-df-convert');\n",
              "        buttonEl.style.display =\n",
              "          google.colab.kernel.accessAllowed ? 'block' : 'none';\n",
              "\n",
              "        async function convertToInteractive(key) {\n",
              "          const element = document.querySelector('#df-06ac0ea1-5096-4c44-9390-3e536149996e');\n",
              "          const dataTable =\n",
              "            await google.colab.kernel.invokeFunction('convertToInteractive',\n",
              "                                                     [key], {});\n",
              "          if (!dataTable) return;\n",
              "\n",
              "          const docLinkHtml = 'Like what you see? Visit the ' +\n",
              "            '<a target=\"_blank\" href=https://colab.research.google.com/notebooks/data_table.ipynb>data table notebook</a>'\n",
              "            + ' to learn more about interactive tables.';\n",
              "          element.innerHTML = '';\n",
              "          dataTable['output_type'] = 'display_data';\n",
              "          await google.colab.output.renderOutput(dataTable, element);\n",
              "          const docLink = document.createElement('div');\n",
              "          docLink.innerHTML = docLinkHtml;\n",
              "          element.appendChild(docLink);\n",
              "        }\n",
              "      </script>\n",
              "    </div>\n",
              "  </div>\n",
              "  "
            ]
          },
          "metadata": {},
          "execution_count": 28
        }
      ]
    },
    {
      "cell_type": "code",
      "source": [
        "df_floor"
      ],
      "metadata": {
        "colab": {
          "base_uri": "https://localhost:8080/",
          "height": 112
        },
        "id": "jrZ0dYXZIsjy",
        "outputId": "df1c5b54-bb02-4a8d-fb5f-9c5ffdeb221e"
      },
      "execution_count": 29,
      "outputs": [
        {
          "output_type": "execute_result",
          "data": {
            "text/plain": [
              "     id                                              image  \\\n",
              "0  H-3F  {'name': 'H-3F.png', 'width': 1000, 'height': ...   \n",
              "1  H-4F  {'name': 'H-4F.png', 'width': 1000, 'height': ...   \n",
              "\n",
              "                                             sensors  \n",
              "0  [{'sensor_id': 'ENKZYW001792', 'location': {'y...  \n",
              "1  [{'sensor_id': 'ENKZYW001883', 'location': {'y...  "
            ],
            "text/html": [
              "\n",
              "  <div id=\"df-07afb486-27fb-4d38-b7f0-7647a9ab0bde\">\n",
              "    <div class=\"colab-df-container\">\n",
              "      <div>\n",
              "<style scoped>\n",
              "    .dataframe tbody tr th:only-of-type {\n",
              "        vertical-align: middle;\n",
              "    }\n",
              "\n",
              "    .dataframe tbody tr th {\n",
              "        vertical-align: top;\n",
              "    }\n",
              "\n",
              "    .dataframe thead th {\n",
              "        text-align: right;\n",
              "    }\n",
              "</style>\n",
              "<table border=\"1\" class=\"dataframe\">\n",
              "  <thead>\n",
              "    <tr style=\"text-align: right;\">\n",
              "      <th></th>\n",
              "      <th>id</th>\n",
              "      <th>image</th>\n",
              "      <th>sensors</th>\n",
              "    </tr>\n",
              "  </thead>\n",
              "  <tbody>\n",
              "    <tr>\n",
              "      <th>0</th>\n",
              "      <td>H-3F</td>\n",
              "      <td>{'name': 'H-3F.png', 'width': 1000, 'height': ...</td>\n",
              "      <td>[{'sensor_id': 'ENKZYW001792', 'location': {'y...</td>\n",
              "    </tr>\n",
              "    <tr>\n",
              "      <th>1</th>\n",
              "      <td>H-4F</td>\n",
              "      <td>{'name': 'H-4F.png', 'width': 1000, 'height': ...</td>\n",
              "      <td>[{'sensor_id': 'ENKZYW001883', 'location': {'y...</td>\n",
              "    </tr>\n",
              "  </tbody>\n",
              "</table>\n",
              "</div>\n",
              "      <button class=\"colab-df-convert\" onclick=\"convertToInteractive('df-07afb486-27fb-4d38-b7f0-7647a9ab0bde')\"\n",
              "              title=\"Convert this dataframe to an interactive table.\"\n",
              "              style=\"display:none;\">\n",
              "        \n",
              "  <svg xmlns=\"http://www.w3.org/2000/svg\" height=\"24px\"viewBox=\"0 0 24 24\"\n",
              "       width=\"24px\">\n",
              "    <path d=\"M0 0h24v24H0V0z\" fill=\"none\"/>\n",
              "    <path d=\"M18.56 5.44l.94 2.06.94-2.06 2.06-.94-2.06-.94-.94-2.06-.94 2.06-2.06.94zm-11 1L8.5 8.5l.94-2.06 2.06-.94-2.06-.94L8.5 2.5l-.94 2.06-2.06.94zm10 10l.94 2.06.94-2.06 2.06-.94-2.06-.94-.94-2.06-.94 2.06-2.06.94z\"/><path d=\"M17.41 7.96l-1.37-1.37c-.4-.4-.92-.59-1.43-.59-.52 0-1.04.2-1.43.59L10.3 9.45l-7.72 7.72c-.78.78-.78 2.05 0 2.83L4 21.41c.39.39.9.59 1.41.59.51 0 1.02-.2 1.41-.59l7.78-7.78 2.81-2.81c.8-.78.8-2.07 0-2.86zM5.41 20L4 18.59l7.72-7.72 1.47 1.35L5.41 20z\"/>\n",
              "  </svg>\n",
              "      </button>\n",
              "      \n",
              "  <style>\n",
              "    .colab-df-container {\n",
              "      display:flex;\n",
              "      flex-wrap:wrap;\n",
              "      gap: 12px;\n",
              "    }\n",
              "\n",
              "    .colab-df-convert {\n",
              "      background-color: #E8F0FE;\n",
              "      border: none;\n",
              "      border-radius: 50%;\n",
              "      cursor: pointer;\n",
              "      display: none;\n",
              "      fill: #1967D2;\n",
              "      height: 32px;\n",
              "      padding: 0 0 0 0;\n",
              "      width: 32px;\n",
              "    }\n",
              "\n",
              "    .colab-df-convert:hover {\n",
              "      background-color: #E2EBFA;\n",
              "      box-shadow: 0px 1px 2px rgba(60, 64, 67, 0.3), 0px 1px 3px 1px rgba(60, 64, 67, 0.15);\n",
              "      fill: #174EA6;\n",
              "    }\n",
              "\n",
              "    [theme=dark] .colab-df-convert {\n",
              "      background-color: #3B4455;\n",
              "      fill: #D2E3FC;\n",
              "    }\n",
              "\n",
              "    [theme=dark] .colab-df-convert:hover {\n",
              "      background-color: #434B5C;\n",
              "      box-shadow: 0px 1px 3px 1px rgba(0, 0, 0, 0.15);\n",
              "      filter: drop-shadow(0px 1px 2px rgba(0, 0, 0, 0.3));\n",
              "      fill: #FFFFFF;\n",
              "    }\n",
              "  </style>\n",
              "\n",
              "      <script>\n",
              "        const buttonEl =\n",
              "          document.querySelector('#df-07afb486-27fb-4d38-b7f0-7647a9ab0bde button.colab-df-convert');\n",
              "        buttonEl.style.display =\n",
              "          google.colab.kernel.accessAllowed ? 'block' : 'none';\n",
              "\n",
              "        async function convertToInteractive(key) {\n",
              "          const element = document.querySelector('#df-07afb486-27fb-4d38-b7f0-7647a9ab0bde');\n",
              "          const dataTable =\n",
              "            await google.colab.kernel.invokeFunction('convertToInteractive',\n",
              "                                                     [key], {});\n",
              "          if (!dataTable) return;\n",
              "\n",
              "          const docLinkHtml = 'Like what you see? Visit the ' +\n",
              "            '<a target=\"_blank\" href=https://colab.research.google.com/notebooks/data_table.ipynb>data table notebook</a>'\n",
              "            + ' to learn more about interactive tables.';\n",
              "          element.innerHTML = '';\n",
              "          dataTable['output_type'] = 'display_data';\n",
              "          await google.colab.output.renderOutput(dataTable, element);\n",
              "          const docLink = document.createElement('div');\n",
              "          docLink.innerHTML = docLinkHtml;\n",
              "          element.appendChild(docLink);\n",
              "        }\n",
              "      </script>\n",
              "    </div>\n",
              "  </div>\n",
              "  "
            ]
          },
          "metadata": {},
          "execution_count": 29
        }
      ]
    },
    {
      "cell_type": "markdown",
      "source": [
        "Since floor data is in nested json format. \n",
        "We will normalise it to relevant format"
      ],
      "metadata": {
        "id": "mOWuzul7HXFf"
      }
    },
    {
      "cell_type": "code",
      "source": [
        "# initialising new dataframe for normalized sensor location data\n",
        "floor_sensor = pd.DataFrame()\n",
        "# initialising new dataframe for normalized floor meta data\n",
        "floor_meta=  pd.DataFrame()\n",
        "\n",
        "for i in range(len(df_floor)):\n",
        "  s_temp = pd.json_normalize(df_floor['sensors'][i], max_level=2)\n",
        "  s_temp['id'] = df_floor['id'][i]\n",
        "\n",
        "  m_temp= pd.json_normalize(df_floor['image'][i]).drop(columns=['name'])\n",
        "  m_temp['id']= df_floor['id'][i]\n",
        "\n",
        "  floor_sensor = floor_sensor.append(s_temp).reset_index(drop=True) \n",
        "  floor_meta = floor_meta.append(m_temp).reset_index(drop=True) "
      ],
      "metadata": {
        "id": "pT15xc4iLjtt"
      },
      "execution_count": 30,
      "outputs": []
    },
    {
      "cell_type": "code",
      "source": [
        "floor_sensor.head(5)"
      ],
      "metadata": {
        "colab": {
          "base_uri": "https://localhost:8080/",
          "height": 206
        },
        "id": "xJnHZzpLK-cE",
        "outputId": "693caca9-a621-41b9-84eb-0e36a57f0c6f"
      },
      "execution_count": 31,
      "outputs": [
        {
          "output_type": "execute_result",
          "data": {
            "text/plain": [
              "      sensor_id  location.y  location.x    id\n",
              "0  ENKZYW001792      487.47      355.19  H-3F\n",
              "1  ENKZYW001804      313.77      203.47  H-3F\n",
              "2  ENKZYW001819      153.54      387.91  H-3F\n",
              "3  ENKZYW001837      134.67      609.73  H-3F\n",
              "4  ENKZYW001848      156.61      891.23  H-3F"
            ],
            "text/html": [
              "\n",
              "  <div id=\"df-acdc05af-ae03-4f4b-9c86-728a5ab01e5f\">\n",
              "    <div class=\"colab-df-container\">\n",
              "      <div>\n",
              "<style scoped>\n",
              "    .dataframe tbody tr th:only-of-type {\n",
              "        vertical-align: middle;\n",
              "    }\n",
              "\n",
              "    .dataframe tbody tr th {\n",
              "        vertical-align: top;\n",
              "    }\n",
              "\n",
              "    .dataframe thead th {\n",
              "        text-align: right;\n",
              "    }\n",
              "</style>\n",
              "<table border=\"1\" class=\"dataframe\">\n",
              "  <thead>\n",
              "    <tr style=\"text-align: right;\">\n",
              "      <th></th>\n",
              "      <th>sensor_id</th>\n",
              "      <th>location.y</th>\n",
              "      <th>location.x</th>\n",
              "      <th>id</th>\n",
              "    </tr>\n",
              "  </thead>\n",
              "  <tbody>\n",
              "    <tr>\n",
              "      <th>0</th>\n",
              "      <td>ENKZYW001792</td>\n",
              "      <td>487.47</td>\n",
              "      <td>355.19</td>\n",
              "      <td>H-3F</td>\n",
              "    </tr>\n",
              "    <tr>\n",
              "      <th>1</th>\n",
              "      <td>ENKZYW001804</td>\n",
              "      <td>313.77</td>\n",
              "      <td>203.47</td>\n",
              "      <td>H-3F</td>\n",
              "    </tr>\n",
              "    <tr>\n",
              "      <th>2</th>\n",
              "      <td>ENKZYW001819</td>\n",
              "      <td>153.54</td>\n",
              "      <td>387.91</td>\n",
              "      <td>H-3F</td>\n",
              "    </tr>\n",
              "    <tr>\n",
              "      <th>3</th>\n",
              "      <td>ENKZYW001837</td>\n",
              "      <td>134.67</td>\n",
              "      <td>609.73</td>\n",
              "      <td>H-3F</td>\n",
              "    </tr>\n",
              "    <tr>\n",
              "      <th>4</th>\n",
              "      <td>ENKZYW001848</td>\n",
              "      <td>156.61</td>\n",
              "      <td>891.23</td>\n",
              "      <td>H-3F</td>\n",
              "    </tr>\n",
              "  </tbody>\n",
              "</table>\n",
              "</div>\n",
              "      <button class=\"colab-df-convert\" onclick=\"convertToInteractive('df-acdc05af-ae03-4f4b-9c86-728a5ab01e5f')\"\n",
              "              title=\"Convert this dataframe to an interactive table.\"\n",
              "              style=\"display:none;\">\n",
              "        \n",
              "  <svg xmlns=\"http://www.w3.org/2000/svg\" height=\"24px\"viewBox=\"0 0 24 24\"\n",
              "       width=\"24px\">\n",
              "    <path d=\"M0 0h24v24H0V0z\" fill=\"none\"/>\n",
              "    <path d=\"M18.56 5.44l.94 2.06.94-2.06 2.06-.94-2.06-.94-.94-2.06-.94 2.06-2.06.94zm-11 1L8.5 8.5l.94-2.06 2.06-.94-2.06-.94L8.5 2.5l-.94 2.06-2.06.94zm10 10l.94 2.06.94-2.06 2.06-.94-2.06-.94-.94-2.06-.94 2.06-2.06.94z\"/><path d=\"M17.41 7.96l-1.37-1.37c-.4-.4-.92-.59-1.43-.59-.52 0-1.04.2-1.43.59L10.3 9.45l-7.72 7.72c-.78.78-.78 2.05 0 2.83L4 21.41c.39.39.9.59 1.41.59.51 0 1.02-.2 1.41-.59l7.78-7.78 2.81-2.81c.8-.78.8-2.07 0-2.86zM5.41 20L4 18.59l7.72-7.72 1.47 1.35L5.41 20z\"/>\n",
              "  </svg>\n",
              "      </button>\n",
              "      \n",
              "  <style>\n",
              "    .colab-df-container {\n",
              "      display:flex;\n",
              "      flex-wrap:wrap;\n",
              "      gap: 12px;\n",
              "    }\n",
              "\n",
              "    .colab-df-convert {\n",
              "      background-color: #E8F0FE;\n",
              "      border: none;\n",
              "      border-radius: 50%;\n",
              "      cursor: pointer;\n",
              "      display: none;\n",
              "      fill: #1967D2;\n",
              "      height: 32px;\n",
              "      padding: 0 0 0 0;\n",
              "      width: 32px;\n",
              "    }\n",
              "\n",
              "    .colab-df-convert:hover {\n",
              "      background-color: #E2EBFA;\n",
              "      box-shadow: 0px 1px 2px rgba(60, 64, 67, 0.3), 0px 1px 3px 1px rgba(60, 64, 67, 0.15);\n",
              "      fill: #174EA6;\n",
              "    }\n",
              "\n",
              "    [theme=dark] .colab-df-convert {\n",
              "      background-color: #3B4455;\n",
              "      fill: #D2E3FC;\n",
              "    }\n",
              "\n",
              "    [theme=dark] .colab-df-convert:hover {\n",
              "      background-color: #434B5C;\n",
              "      box-shadow: 0px 1px 3px 1px rgba(0, 0, 0, 0.15);\n",
              "      filter: drop-shadow(0px 1px 2px rgba(0, 0, 0, 0.3));\n",
              "      fill: #FFFFFF;\n",
              "    }\n",
              "  </style>\n",
              "\n",
              "      <script>\n",
              "        const buttonEl =\n",
              "          document.querySelector('#df-acdc05af-ae03-4f4b-9c86-728a5ab01e5f button.colab-df-convert');\n",
              "        buttonEl.style.display =\n",
              "          google.colab.kernel.accessAllowed ? 'block' : 'none';\n",
              "\n",
              "        async function convertToInteractive(key) {\n",
              "          const element = document.querySelector('#df-acdc05af-ae03-4f4b-9c86-728a5ab01e5f');\n",
              "          const dataTable =\n",
              "            await google.colab.kernel.invokeFunction('convertToInteractive',\n",
              "                                                     [key], {});\n",
              "          if (!dataTable) return;\n",
              "\n",
              "          const docLinkHtml = 'Like what you see? Visit the ' +\n",
              "            '<a target=\"_blank\" href=https://colab.research.google.com/notebooks/data_table.ipynb>data table notebook</a>'\n",
              "            + ' to learn more about interactive tables.';\n",
              "          element.innerHTML = '';\n",
              "          dataTable['output_type'] = 'display_data';\n",
              "          await google.colab.output.renderOutput(dataTable, element);\n",
              "          const docLink = document.createElement('div');\n",
              "          docLink.innerHTML = docLinkHtml;\n",
              "          element.appendChild(docLink);\n",
              "        }\n",
              "      </script>\n",
              "    </div>\n",
              "  </div>\n",
              "  "
            ]
          },
          "metadata": {},
          "execution_count": 31
        }
      ]
    },
    {
      "cell_type": "code",
      "source": [
        "floor_meta"
      ],
      "metadata": {
        "colab": {
          "base_uri": "https://localhost:8080/",
          "height": 112
        },
        "id": "_SgDm2jyY_J0",
        "outputId": "5e74d583-f9d0-4671-d75b-48ea9bc77303"
      },
      "execution_count": 32,
      "outputs": [
        {
          "output_type": "execute_result",
          "data": {
            "text/plain": [
              "   width  height    id\n",
              "0   1000     646  H-3F\n",
              "1   1000     646  H-4F"
            ],
            "text/html": [
              "\n",
              "  <div id=\"df-bf9a635c-d972-47c4-8c0d-12054dcaa339\">\n",
              "    <div class=\"colab-df-container\">\n",
              "      <div>\n",
              "<style scoped>\n",
              "    .dataframe tbody tr th:only-of-type {\n",
              "        vertical-align: middle;\n",
              "    }\n",
              "\n",
              "    .dataframe tbody tr th {\n",
              "        vertical-align: top;\n",
              "    }\n",
              "\n",
              "    .dataframe thead th {\n",
              "        text-align: right;\n",
              "    }\n",
              "</style>\n",
              "<table border=\"1\" class=\"dataframe\">\n",
              "  <thead>\n",
              "    <tr style=\"text-align: right;\">\n",
              "      <th></th>\n",
              "      <th>width</th>\n",
              "      <th>height</th>\n",
              "      <th>id</th>\n",
              "    </tr>\n",
              "  </thead>\n",
              "  <tbody>\n",
              "    <tr>\n",
              "      <th>0</th>\n",
              "      <td>1000</td>\n",
              "      <td>646</td>\n",
              "      <td>H-3F</td>\n",
              "    </tr>\n",
              "    <tr>\n",
              "      <th>1</th>\n",
              "      <td>1000</td>\n",
              "      <td>646</td>\n",
              "      <td>H-4F</td>\n",
              "    </tr>\n",
              "  </tbody>\n",
              "</table>\n",
              "</div>\n",
              "      <button class=\"colab-df-convert\" onclick=\"convertToInteractive('df-bf9a635c-d972-47c4-8c0d-12054dcaa339')\"\n",
              "              title=\"Convert this dataframe to an interactive table.\"\n",
              "              style=\"display:none;\">\n",
              "        \n",
              "  <svg xmlns=\"http://www.w3.org/2000/svg\" height=\"24px\"viewBox=\"0 0 24 24\"\n",
              "       width=\"24px\">\n",
              "    <path d=\"M0 0h24v24H0V0z\" fill=\"none\"/>\n",
              "    <path d=\"M18.56 5.44l.94 2.06.94-2.06 2.06-.94-2.06-.94-.94-2.06-.94 2.06-2.06.94zm-11 1L8.5 8.5l.94-2.06 2.06-.94-2.06-.94L8.5 2.5l-.94 2.06-2.06.94zm10 10l.94 2.06.94-2.06 2.06-.94-2.06-.94-.94-2.06-.94 2.06-2.06.94z\"/><path d=\"M17.41 7.96l-1.37-1.37c-.4-.4-.92-.59-1.43-.59-.52 0-1.04.2-1.43.59L10.3 9.45l-7.72 7.72c-.78.78-.78 2.05 0 2.83L4 21.41c.39.39.9.59 1.41.59.51 0 1.02-.2 1.41-.59l7.78-7.78 2.81-2.81c.8-.78.8-2.07 0-2.86zM5.41 20L4 18.59l7.72-7.72 1.47 1.35L5.41 20z\"/>\n",
              "  </svg>\n",
              "      </button>\n",
              "      \n",
              "  <style>\n",
              "    .colab-df-container {\n",
              "      display:flex;\n",
              "      flex-wrap:wrap;\n",
              "      gap: 12px;\n",
              "    }\n",
              "\n",
              "    .colab-df-convert {\n",
              "      background-color: #E8F0FE;\n",
              "      border: none;\n",
              "      border-radius: 50%;\n",
              "      cursor: pointer;\n",
              "      display: none;\n",
              "      fill: #1967D2;\n",
              "      height: 32px;\n",
              "      padding: 0 0 0 0;\n",
              "      width: 32px;\n",
              "    }\n",
              "\n",
              "    .colab-df-convert:hover {\n",
              "      background-color: #E2EBFA;\n",
              "      box-shadow: 0px 1px 2px rgba(60, 64, 67, 0.3), 0px 1px 3px 1px rgba(60, 64, 67, 0.15);\n",
              "      fill: #174EA6;\n",
              "    }\n",
              "\n",
              "    [theme=dark] .colab-df-convert {\n",
              "      background-color: #3B4455;\n",
              "      fill: #D2E3FC;\n",
              "    }\n",
              "\n",
              "    [theme=dark] .colab-df-convert:hover {\n",
              "      background-color: #434B5C;\n",
              "      box-shadow: 0px 1px 3px 1px rgba(0, 0, 0, 0.15);\n",
              "      filter: drop-shadow(0px 1px 2px rgba(0, 0, 0, 0.3));\n",
              "      fill: #FFFFFF;\n",
              "    }\n",
              "  </style>\n",
              "\n",
              "      <script>\n",
              "        const buttonEl =\n",
              "          document.querySelector('#df-bf9a635c-d972-47c4-8c0d-12054dcaa339 button.colab-df-convert');\n",
              "        buttonEl.style.display =\n",
              "          google.colab.kernel.accessAllowed ? 'block' : 'none';\n",
              "\n",
              "        async function convertToInteractive(key) {\n",
              "          const element = document.querySelector('#df-bf9a635c-d972-47c4-8c0d-12054dcaa339');\n",
              "          const dataTable =\n",
              "            await google.colab.kernel.invokeFunction('convertToInteractive',\n",
              "                                                     [key], {});\n",
              "          if (!dataTable) return;\n",
              "\n",
              "          const docLinkHtml = 'Like what you see? Visit the ' +\n",
              "            '<a target=\"_blank\" href=https://colab.research.google.com/notebooks/data_table.ipynb>data table notebook</a>'\n",
              "            + ' to learn more about interactive tables.';\n",
              "          element.innerHTML = '';\n",
              "          dataTable['output_type'] = 'display_data';\n",
              "          await google.colab.output.renderOutput(dataTable, element);\n",
              "          const docLink = document.createElement('div');\n",
              "          docLink.innerHTML = docLinkHtml;\n",
              "          element.appendChild(docLink);\n",
              "        }\n",
              "      </script>\n",
              "    </div>\n",
              "  </div>\n",
              "  "
            ]
          },
          "metadata": {},
          "execution_count": 32
        }
      ]
    },
    {
      "cell_type": "markdown",
      "source": [
        "### Data Exploration"
      ],
      "metadata": {
        "id": "ButV6NFlIgEv"
      }
    },
    {
      "cell_type": "markdown",
      "source": [
        "#### Datetime conversion"
      ],
      "metadata": {
        "id": "CPiWTLFCKuTr"
      }
    },
    {
      "cell_type": "code",
      "source": [
        "# cheching the data type\n",
        "df_indoor.info()"
      ],
      "metadata": {
        "colab": {
          "base_uri": "https://localhost:8080/"
        },
        "id": "IVSg_xH0QbtR",
        "outputId": "392063f3-2d5c-4ecf-ba41-40b8932fe2f7"
      },
      "execution_count": 33,
      "outputs": [
        {
          "output_type": "stream",
          "name": "stdout",
          "text": [
            "<class 'pandas.core.frame.DataFrame'>\n",
            "RangeIndex: 102629 entries, 0 to 102628\n",
            "Data columns (total 5 columns):\n",
            " #   Column        Non-Null Count   Dtype  \n",
            "---  ------        --------------   -----  \n",
            " 0   documentTime  102629 non-null  object \n",
            " 1   temp          102629 non-null  float64\n",
            " 2   humidity      102629 non-null  int64  \n",
            " 3   co2           102629 non-null  int64  \n",
            " 4   sensor_id     102629 non-null  object \n",
            "dtypes: float64(1), int64(2), object(2)\n",
            "memory usage: 3.9+ MB\n"
          ]
        }
      ]
    },
    {
      "cell_type": "code",
      "source": [
        "# changing 'documentTime' from object to datetime dtype\n",
        "df_indoor['datetime']= pd.to_datetime(df_indoor['documentTime'])\n",
        "# create seperate date and time feature\n",
        "df_indoor['date'] = df_indoor['datetime'].apply(lambda x : x.date())\n",
        "df_indoor['time'] = df_indoor['datetime'].apply(lambda x : x.time())\n",
        "df_indoor= df_indoor.drop(columns=['documentTime'])"
      ],
      "metadata": {
        "id": "5_RK79cQQrR-"
      },
      "execution_count": 34,
      "outputs": []
    },
    {
      "cell_type": "code",
      "source": [
        "df_indoor.head(5)"
      ],
      "metadata": {
        "colab": {
          "base_uri": "https://localhost:8080/",
          "height": 206
        },
        "id": "f5llDwCvRg2j",
        "outputId": "d66cb634-c651-4c3b-87ff-3f2fb2afff74"
      },
      "execution_count": 35,
      "outputs": [
        {
          "output_type": "execute_result",
          "data": {
            "text/plain": [
              "   temp  humidity  co2     sensor_id                  datetime        date  \\\n",
              "0  23.5        22  788  ENKZYW001792 2023-01-23 00:03:37+00:00  2023-01-23   \n",
              "1  23.6        23  778  ENKZYW001804 2023-01-23 00:00:48+00:00  2023-01-23   \n",
              "2  22.0        25  785  ENKZYW001882 2023-01-23 00:04:53+00:00  2023-01-23   \n",
              "3  23.2        47  449  ENKZYW001856 2023-01-23 00:01:33+00:00  2023-01-23   \n",
              "4  22.8        23  780  ENKZYW001848 2023-01-23 00:04:29+00:00  2023-01-23   \n",
              "\n",
              "       time  \n",
              "0  00:03:37  \n",
              "1  00:00:48  \n",
              "2  00:04:53  \n",
              "3  00:01:33  \n",
              "4  00:04:29  "
            ],
            "text/html": [
              "\n",
              "  <div id=\"df-5e9c92d5-5a10-4f29-a5c9-2dc76a75c028\">\n",
              "    <div class=\"colab-df-container\">\n",
              "      <div>\n",
              "<style scoped>\n",
              "    .dataframe tbody tr th:only-of-type {\n",
              "        vertical-align: middle;\n",
              "    }\n",
              "\n",
              "    .dataframe tbody tr th {\n",
              "        vertical-align: top;\n",
              "    }\n",
              "\n",
              "    .dataframe thead th {\n",
              "        text-align: right;\n",
              "    }\n",
              "</style>\n",
              "<table border=\"1\" class=\"dataframe\">\n",
              "  <thead>\n",
              "    <tr style=\"text-align: right;\">\n",
              "      <th></th>\n",
              "      <th>temp</th>\n",
              "      <th>humidity</th>\n",
              "      <th>co2</th>\n",
              "      <th>sensor_id</th>\n",
              "      <th>datetime</th>\n",
              "      <th>date</th>\n",
              "      <th>time</th>\n",
              "    </tr>\n",
              "  </thead>\n",
              "  <tbody>\n",
              "    <tr>\n",
              "      <th>0</th>\n",
              "      <td>23.5</td>\n",
              "      <td>22</td>\n",
              "      <td>788</td>\n",
              "      <td>ENKZYW001792</td>\n",
              "      <td>2023-01-23 00:03:37+00:00</td>\n",
              "      <td>2023-01-23</td>\n",
              "      <td>00:03:37</td>\n",
              "    </tr>\n",
              "    <tr>\n",
              "      <th>1</th>\n",
              "      <td>23.6</td>\n",
              "      <td>23</td>\n",
              "      <td>778</td>\n",
              "      <td>ENKZYW001804</td>\n",
              "      <td>2023-01-23 00:00:48+00:00</td>\n",
              "      <td>2023-01-23</td>\n",
              "      <td>00:00:48</td>\n",
              "    </tr>\n",
              "    <tr>\n",
              "      <th>2</th>\n",
              "      <td>22.0</td>\n",
              "      <td>25</td>\n",
              "      <td>785</td>\n",
              "      <td>ENKZYW001882</td>\n",
              "      <td>2023-01-23 00:04:53+00:00</td>\n",
              "      <td>2023-01-23</td>\n",
              "      <td>00:04:53</td>\n",
              "    </tr>\n",
              "    <tr>\n",
              "      <th>3</th>\n",
              "      <td>23.2</td>\n",
              "      <td>47</td>\n",
              "      <td>449</td>\n",
              "      <td>ENKZYW001856</td>\n",
              "      <td>2023-01-23 00:01:33+00:00</td>\n",
              "      <td>2023-01-23</td>\n",
              "      <td>00:01:33</td>\n",
              "    </tr>\n",
              "    <tr>\n",
              "      <th>4</th>\n",
              "      <td>22.8</td>\n",
              "      <td>23</td>\n",
              "      <td>780</td>\n",
              "      <td>ENKZYW001848</td>\n",
              "      <td>2023-01-23 00:04:29+00:00</td>\n",
              "      <td>2023-01-23</td>\n",
              "      <td>00:04:29</td>\n",
              "    </tr>\n",
              "  </tbody>\n",
              "</table>\n",
              "</div>\n",
              "      <button class=\"colab-df-convert\" onclick=\"convertToInteractive('df-5e9c92d5-5a10-4f29-a5c9-2dc76a75c028')\"\n",
              "              title=\"Convert this dataframe to an interactive table.\"\n",
              "              style=\"display:none;\">\n",
              "        \n",
              "  <svg xmlns=\"http://www.w3.org/2000/svg\" height=\"24px\"viewBox=\"0 0 24 24\"\n",
              "       width=\"24px\">\n",
              "    <path d=\"M0 0h24v24H0V0z\" fill=\"none\"/>\n",
              "    <path d=\"M18.56 5.44l.94 2.06.94-2.06 2.06-.94-2.06-.94-.94-2.06-.94 2.06-2.06.94zm-11 1L8.5 8.5l.94-2.06 2.06-.94-2.06-.94L8.5 2.5l-.94 2.06-2.06.94zm10 10l.94 2.06.94-2.06 2.06-.94-2.06-.94-.94-2.06-.94 2.06-2.06.94z\"/><path d=\"M17.41 7.96l-1.37-1.37c-.4-.4-.92-.59-1.43-.59-.52 0-1.04.2-1.43.59L10.3 9.45l-7.72 7.72c-.78.78-.78 2.05 0 2.83L4 21.41c.39.39.9.59 1.41.59.51 0 1.02-.2 1.41-.59l7.78-7.78 2.81-2.81c.8-.78.8-2.07 0-2.86zM5.41 20L4 18.59l7.72-7.72 1.47 1.35L5.41 20z\"/>\n",
              "  </svg>\n",
              "      </button>\n",
              "      \n",
              "  <style>\n",
              "    .colab-df-container {\n",
              "      display:flex;\n",
              "      flex-wrap:wrap;\n",
              "      gap: 12px;\n",
              "    }\n",
              "\n",
              "    .colab-df-convert {\n",
              "      background-color: #E8F0FE;\n",
              "      border: none;\n",
              "      border-radius: 50%;\n",
              "      cursor: pointer;\n",
              "      display: none;\n",
              "      fill: #1967D2;\n",
              "      height: 32px;\n",
              "      padding: 0 0 0 0;\n",
              "      width: 32px;\n",
              "    }\n",
              "\n",
              "    .colab-df-convert:hover {\n",
              "      background-color: #E2EBFA;\n",
              "      box-shadow: 0px 1px 2px rgba(60, 64, 67, 0.3), 0px 1px 3px 1px rgba(60, 64, 67, 0.15);\n",
              "      fill: #174EA6;\n",
              "    }\n",
              "\n",
              "    [theme=dark] .colab-df-convert {\n",
              "      background-color: #3B4455;\n",
              "      fill: #D2E3FC;\n",
              "    }\n",
              "\n",
              "    [theme=dark] .colab-df-convert:hover {\n",
              "      background-color: #434B5C;\n",
              "      box-shadow: 0px 1px 3px 1px rgba(0, 0, 0, 0.15);\n",
              "      filter: drop-shadow(0px 1px 2px rgba(0, 0, 0, 0.3));\n",
              "      fill: #FFFFFF;\n",
              "    }\n",
              "  </style>\n",
              "\n",
              "      <script>\n",
              "        const buttonEl =\n",
              "          document.querySelector('#df-5e9c92d5-5a10-4f29-a5c9-2dc76a75c028 button.colab-df-convert');\n",
              "        buttonEl.style.display =\n",
              "          google.colab.kernel.accessAllowed ? 'block' : 'none';\n",
              "\n",
              "        async function convertToInteractive(key) {\n",
              "          const element = document.querySelector('#df-5e9c92d5-5a10-4f29-a5c9-2dc76a75c028');\n",
              "          const dataTable =\n",
              "            await google.colab.kernel.invokeFunction('convertToInteractive',\n",
              "                                                     [key], {});\n",
              "          if (!dataTable) return;\n",
              "\n",
              "          const docLinkHtml = 'Like what you see? Visit the ' +\n",
              "            '<a target=\"_blank\" href=https://colab.research.google.com/notebooks/data_table.ipynb>data table notebook</a>'\n",
              "            + ' to learn more about interactive tables.';\n",
              "          element.innerHTML = '';\n",
              "          dataTable['output_type'] = 'display_data';\n",
              "          await google.colab.output.renderOutput(dataTable, element);\n",
              "          const docLink = document.createElement('div');\n",
              "          docLink.innerHTML = docLinkHtml;\n",
              "          element.appendChild(docLink);\n",
              "        }\n",
              "      </script>\n",
              "    </div>\n",
              "  </div>\n",
              "  "
            ]
          },
          "metadata": {},
          "execution_count": 35
        }
      ]
    },
    {
      "cell_type": "code",
      "source": [
        "# cheching the data type\n",
        "df_outdoor.info()"
      ],
      "metadata": {
        "colab": {
          "base_uri": "https://localhost:8080/"
        },
        "id": "GdD2NHQDQjNi",
        "outputId": "2c3efa87-576e-4a3d-d71e-a30c02009766"
      },
      "execution_count": 36,
      "outputs": [
        {
          "output_type": "stream",
          "name": "stdout",
          "text": [
            "<class 'pandas.core.frame.DataFrame'>\n",
            "RangeIndex: 2892 entries, 0 to 2891\n",
            "Data columns (total 4 columns):\n",
            " #   Column        Non-Null Count  Dtype  \n",
            "---  ------        --------------  -----  \n",
            " 0   documentTime  2892 non-null   object \n",
            " 1   temperature   2892 non-null   float64\n",
            " 2   humidity      2892 non-null   float64\n",
            " 3   windSpeed     1814 non-null   float64\n",
            "dtypes: float64(3), object(1)\n",
            "memory usage: 90.5+ KB\n"
          ]
        }
      ]
    },
    {
      "cell_type": "code",
      "source": [
        "# changing 'documentTime' from object to datetime dtype\n",
        "df_outdoor['datetime']= pd.to_datetime(df_outdoor['documentTime'])\n",
        "# create seperate date and time feature\n",
        "df_outdoor['date'] = df_outdoor['datetime'].apply(lambda x : x.date())\n",
        "df_outdoor['time'] = df_outdoor['datetime'].apply(lambda x : x.time())\n",
        "df_outdoor= df_outdoor.drop(columns=['documentTime'])"
      ],
      "metadata": {
        "id": "B_vJxHxBSZVy"
      },
      "execution_count": 37,
      "outputs": []
    },
    {
      "cell_type": "code",
      "source": [
        "df_outdoor.head(5)"
      ],
      "metadata": {
        "colab": {
          "base_uri": "https://localhost:8080/",
          "height": 206
        },
        "id": "J5w52dQgSkad",
        "outputId": "90a8c2d1-367d-4096-f792-446ba36c7e8f"
      },
      "execution_count": 38,
      "outputs": [
        {
          "output_type": "execute_result",
          "data": {
            "text/plain": [
              "   temperature  humidity  windSpeed                  datetime        date  \\\n",
              "0         -1.3      89.5        NaN 2023-01-23 01:00:00+00:00  2023-01-23   \n",
              "1         -1.5      90.0        NaN 2023-01-23 02:00:00+00:00  2023-01-23   \n",
              "2         -1.8      90.0        NaN 2023-01-23 03:00:00+00:00  2023-01-23   \n",
              "3         -2.2      90.7        NaN 2023-01-23 04:00:00+00:00  2023-01-23   \n",
              "4         -2.3      91.0        NaN 2023-01-23 05:00:00+00:00  2023-01-23   \n",
              "\n",
              "       time  \n",
              "0  01:00:00  \n",
              "1  02:00:00  \n",
              "2  03:00:00  \n",
              "3  04:00:00  \n",
              "4  05:00:00  "
            ],
            "text/html": [
              "\n",
              "  <div id=\"df-0c63d5f4-9f71-4f24-a165-1c78cce720f7\">\n",
              "    <div class=\"colab-df-container\">\n",
              "      <div>\n",
              "<style scoped>\n",
              "    .dataframe tbody tr th:only-of-type {\n",
              "        vertical-align: middle;\n",
              "    }\n",
              "\n",
              "    .dataframe tbody tr th {\n",
              "        vertical-align: top;\n",
              "    }\n",
              "\n",
              "    .dataframe thead th {\n",
              "        text-align: right;\n",
              "    }\n",
              "</style>\n",
              "<table border=\"1\" class=\"dataframe\">\n",
              "  <thead>\n",
              "    <tr style=\"text-align: right;\">\n",
              "      <th></th>\n",
              "      <th>temperature</th>\n",
              "      <th>humidity</th>\n",
              "      <th>windSpeed</th>\n",
              "      <th>datetime</th>\n",
              "      <th>date</th>\n",
              "      <th>time</th>\n",
              "    </tr>\n",
              "  </thead>\n",
              "  <tbody>\n",
              "    <tr>\n",
              "      <th>0</th>\n",
              "      <td>-1.3</td>\n",
              "      <td>89.5</td>\n",
              "      <td>NaN</td>\n",
              "      <td>2023-01-23 01:00:00+00:00</td>\n",
              "      <td>2023-01-23</td>\n",
              "      <td>01:00:00</td>\n",
              "    </tr>\n",
              "    <tr>\n",
              "      <th>1</th>\n",
              "      <td>-1.5</td>\n",
              "      <td>90.0</td>\n",
              "      <td>NaN</td>\n",
              "      <td>2023-01-23 02:00:00+00:00</td>\n",
              "      <td>2023-01-23</td>\n",
              "      <td>02:00:00</td>\n",
              "    </tr>\n",
              "    <tr>\n",
              "      <th>2</th>\n",
              "      <td>-1.8</td>\n",
              "      <td>90.0</td>\n",
              "      <td>NaN</td>\n",
              "      <td>2023-01-23 03:00:00+00:00</td>\n",
              "      <td>2023-01-23</td>\n",
              "      <td>03:00:00</td>\n",
              "    </tr>\n",
              "    <tr>\n",
              "      <th>3</th>\n",
              "      <td>-2.2</td>\n",
              "      <td>90.7</td>\n",
              "      <td>NaN</td>\n",
              "      <td>2023-01-23 04:00:00+00:00</td>\n",
              "      <td>2023-01-23</td>\n",
              "      <td>04:00:00</td>\n",
              "    </tr>\n",
              "    <tr>\n",
              "      <th>4</th>\n",
              "      <td>-2.3</td>\n",
              "      <td>91.0</td>\n",
              "      <td>NaN</td>\n",
              "      <td>2023-01-23 05:00:00+00:00</td>\n",
              "      <td>2023-01-23</td>\n",
              "      <td>05:00:00</td>\n",
              "    </tr>\n",
              "  </tbody>\n",
              "</table>\n",
              "</div>\n",
              "      <button class=\"colab-df-convert\" onclick=\"convertToInteractive('df-0c63d5f4-9f71-4f24-a165-1c78cce720f7')\"\n",
              "              title=\"Convert this dataframe to an interactive table.\"\n",
              "              style=\"display:none;\">\n",
              "        \n",
              "  <svg xmlns=\"http://www.w3.org/2000/svg\" height=\"24px\"viewBox=\"0 0 24 24\"\n",
              "       width=\"24px\">\n",
              "    <path d=\"M0 0h24v24H0V0z\" fill=\"none\"/>\n",
              "    <path d=\"M18.56 5.44l.94 2.06.94-2.06 2.06-.94-2.06-.94-.94-2.06-.94 2.06-2.06.94zm-11 1L8.5 8.5l.94-2.06 2.06-.94-2.06-.94L8.5 2.5l-.94 2.06-2.06.94zm10 10l.94 2.06.94-2.06 2.06-.94-2.06-.94-.94-2.06-.94 2.06-2.06.94z\"/><path d=\"M17.41 7.96l-1.37-1.37c-.4-.4-.92-.59-1.43-.59-.52 0-1.04.2-1.43.59L10.3 9.45l-7.72 7.72c-.78.78-.78 2.05 0 2.83L4 21.41c.39.39.9.59 1.41.59.51 0 1.02-.2 1.41-.59l7.78-7.78 2.81-2.81c.8-.78.8-2.07 0-2.86zM5.41 20L4 18.59l7.72-7.72 1.47 1.35L5.41 20z\"/>\n",
              "  </svg>\n",
              "      </button>\n",
              "      \n",
              "  <style>\n",
              "    .colab-df-container {\n",
              "      display:flex;\n",
              "      flex-wrap:wrap;\n",
              "      gap: 12px;\n",
              "    }\n",
              "\n",
              "    .colab-df-convert {\n",
              "      background-color: #E8F0FE;\n",
              "      border: none;\n",
              "      border-radius: 50%;\n",
              "      cursor: pointer;\n",
              "      display: none;\n",
              "      fill: #1967D2;\n",
              "      height: 32px;\n",
              "      padding: 0 0 0 0;\n",
              "      width: 32px;\n",
              "    }\n",
              "\n",
              "    .colab-df-convert:hover {\n",
              "      background-color: #E2EBFA;\n",
              "      box-shadow: 0px 1px 2px rgba(60, 64, 67, 0.3), 0px 1px 3px 1px rgba(60, 64, 67, 0.15);\n",
              "      fill: #174EA6;\n",
              "    }\n",
              "\n",
              "    [theme=dark] .colab-df-convert {\n",
              "      background-color: #3B4455;\n",
              "      fill: #D2E3FC;\n",
              "    }\n",
              "\n",
              "    [theme=dark] .colab-df-convert:hover {\n",
              "      background-color: #434B5C;\n",
              "      box-shadow: 0px 1px 3px 1px rgba(0, 0, 0, 0.15);\n",
              "      filter: drop-shadow(0px 1px 2px rgba(0, 0, 0, 0.3));\n",
              "      fill: #FFFFFF;\n",
              "    }\n",
              "  </style>\n",
              "\n",
              "      <script>\n",
              "        const buttonEl =\n",
              "          document.querySelector('#df-0c63d5f4-9f71-4f24-a165-1c78cce720f7 button.colab-df-convert');\n",
              "        buttonEl.style.display =\n",
              "          google.colab.kernel.accessAllowed ? 'block' : 'none';\n",
              "\n",
              "        async function convertToInteractive(key) {\n",
              "          const element = document.querySelector('#df-0c63d5f4-9f71-4f24-a165-1c78cce720f7');\n",
              "          const dataTable =\n",
              "            await google.colab.kernel.invokeFunction('convertToInteractive',\n",
              "                                                     [key], {});\n",
              "          if (!dataTable) return;\n",
              "\n",
              "          const docLinkHtml = 'Like what you see? Visit the ' +\n",
              "            '<a target=\"_blank\" href=https://colab.research.google.com/notebooks/data_table.ipynb>data table notebook</a>'\n",
              "            + ' to learn more about interactive tables.';\n",
              "          element.innerHTML = '';\n",
              "          dataTable['output_type'] = 'display_data';\n",
              "          await google.colab.output.renderOutput(dataTable, element);\n",
              "          const docLink = document.createElement('div');\n",
              "          docLink.innerHTML = docLinkHtml;\n",
              "          element.appendChild(docLink);\n",
              "        }\n",
              "      </script>\n",
              "    </div>\n",
              "  </div>\n",
              "  "
            ]
          },
          "metadata": {},
          "execution_count": 38
        }
      ]
    },
    {
      "cell_type": "markdown",
      "source": [
        "#### Missing Value:"
      ],
      "metadata": {
        "id": "t1TV57yEK3ae"
      }
    },
    {
      "cell_type": "code",
      "source": [
        "# Check for missing values\n",
        "print('IAQ Data Missing Values:\\n', df_indoor.isna().sum())\n",
        "\n",
        "print('\\n OAQ Data Missing Values:\\n', df_outdoor.isna().sum())"
      ],
      "metadata": {
        "colab": {
          "base_uri": "https://localhost:8080/"
        },
        "id": "TVll4KarK7Wq",
        "outputId": "388cd8b6-4092-4c41-b881-96b98ffa80b2"
      },
      "execution_count": 39,
      "outputs": [
        {
          "output_type": "stream",
          "name": "stdout",
          "text": [
            "IAQ Data Missing Values:\n",
            " temp         0\n",
            "humidity     0\n",
            "co2          0\n",
            "sensor_id    0\n",
            "datetime     0\n",
            "date         0\n",
            "time         0\n",
            "dtype: int64\n",
            "\n",
            " OAQ Data Missing Values:\n",
            " temperature       0\n",
            "humidity          0\n",
            "windSpeed      1078\n",
            "datetime          0\n",
            "date              0\n",
            "time              0\n",
            "dtype: int64\n"
          ]
        }
      ]
    },
    {
      "cell_type": "code",
      "source": [
        "# Fill NAN with zero\n",
        "df_outdoor['windSpeed'] = df_outdoor['windSpeed'].fillna(0)"
      ],
      "metadata": {
        "id": "enfylwdOQHB-"
      },
      "execution_count": 52,
      "outputs": []
    },
    {
      "cell_type": "markdown",
      "source": [
        "#### Check Inconsistency:"
      ],
      "metadata": {
        "id": "e-EoRgwfM0K2"
      }
    },
    {
      "cell_type": "code",
      "source": [
        "# Check for inconsistencies between IAQ and floor dataframes\n",
        "iaq_sensors = set(df_indoor['sensor_id'])\n",
        "floor_sensors = set(floor_sensor['sensor_id'])\n",
        "\n",
        "if iaq_sensors == floor_sensors:\n",
        "    print('No inconsistencies found between IAQ and floor dataframes')\n",
        "else:\n",
        "    print('Inconsistencies found between IAQ and floor dataframes')"
      ],
      "metadata": {
        "colab": {
          "base_uri": "https://localhost:8080/"
        },
        "id": "-Mu8okuTMCBl",
        "outputId": "e0dc9d4f-de6f-4282-a46e-4dfee8a843c5"
      },
      "execution_count": 40,
      "outputs": [
        {
          "output_type": "stream",
          "name": "stdout",
          "text": [
            "No inconsistencies found between IAQ and floor dataframes\n"
          ]
        }
      ]
    },
    {
      "cell_type": "code",
      "source": [
        "# Group by sensor_id and calculate time difference between consecutive records\n",
        "grouped = df_indoor.groupby('sensor_id')\n",
        "\n",
        "for sensor_id, group in grouped:\n",
        "    time_diff = group['datetime'].diff()\n",
        "    #to check if the data is comming every 5 min\n",
        "    if all(time_diff == pd.Timedelta(minutes=5)):\n",
        "        print(f'Data for sensor ID {sensor_id} is coming every 5 minutes')\n",
        "    else:\n",
        "        print(f'Data for sensor ID {sensor_id} is not coming every 5 minutes')"
      ],
      "metadata": {
        "colab": {
          "base_uri": "https://localhost:8080/"
        },
        "id": "8cW2VfhyPy4X",
        "outputId": "f74ea80b-7209-417c-be38-6506b21bf8f0"
      },
      "execution_count": 44,
      "outputs": [
        {
          "output_type": "stream",
          "name": "stdout",
          "text": [
            "Data for sensor ID ENKZYW001792 is not coming every 5 minutes\n",
            "Data for sensor ID ENKZYW001804 is not coming every 5 minutes\n",
            "Data for sensor ID ENKZYW001819 is not coming every 5 minutes\n",
            "Data for sensor ID ENKZYW001837 is not coming every 5 minutes\n",
            "Data for sensor ID ENKZYW001848 is not coming every 5 minutes\n",
            "Data for sensor ID ENKZYW001856 is not coming every 5 minutes\n",
            "Data for sensor ID ENKZYW001882 is not coming every 5 minutes\n",
            "Data for sensor ID ENKZYW001883 is not coming every 5 minutes\n",
            "Data for sensor ID ENKZYW001884 is not coming every 5 minutes\n",
            "Data for sensor ID ENKZYW001888 is not coming every 5 minutes\n",
            "Data for sensor ID ENKZYW001900 is not coming every 5 minutes\n",
            "Data for sensor ID ENKZYW001925 is not coming every 5 minutes\n",
            "Data for sensor ID ENKZYW001935 is not coming every 5 minutes\n",
            "Data for sensor ID ENKZYW001958 is not coming every 5 minutes\n"
          ]
        }
      ]
    },
    {
      "cell_type": "code",
      "source": [
        "# Group by sensor_id and calculate time difference between consecutive records\n",
        "grouped = df_indoor.groupby('sensor_id')\n",
        "\n",
        "for sensor_id, group in grouped:\n",
        "    # to get the time difference at which the data is comming\n",
        "    time_diff = group['datetime'].diff().dropna()\n",
        "    avg_time_diff = time_diff.mean()\n",
        "    print(f'Average time difference for sensor ID {sensor_id}: {avg_time_diff}')"
      ],
      "metadata": {
        "colab": {
          "base_uri": "https://localhost:8080/"
        },
        "id": "g4z93GdxQRjM",
        "outputId": "0ca8ad4d-473a-42e4-aa07-74a2ceb7b8ab"
      },
      "execution_count": 51,
      "outputs": [
        {
          "output_type": "stream",
          "name": "stdout",
          "text": [
            "Average time difference for sensor ID ENKZYW001792: 0 days 00:05:05.231419558\n",
            "Average time difference for sensor ID ENKZYW001804: 0 days 00:05:33.916206515\n",
            "Average time difference for sensor ID ENKZYW001819: 0 days 00:05:05.163386323\n",
            "Average time difference for sensor ID ENKZYW001837: 0 days 00:05:06.599949296\n",
            "Average time difference for sensor ID ENKZYW001848: 0 days 00:05:05.027868852\n",
            "Average time difference for sensor ID ENKZYW001856: 0 days 00:08:05.830688893\n",
            "Average time difference for sensor ID ENKZYW001882: 0 days 00:05:11.426161967\n",
            "Average time difference for sensor ID ENKZYW001883: 0 days 00:05:04.772458107\n",
            "Average time difference for sensor ID ENKZYW001884: 0 days 00:05:04.830119722\n",
            "Average time difference for sensor ID ENKZYW001888: 0 days 00:05:05.656640970\n",
            "Average time difference for sensor ID ENKZYW001900: 0 days 00:05:04.933946804\n",
            "Average time difference for sensor ID ENKZYW001925: 0 days 00:05:11.399588053\n",
            "Average time difference for sensor ID ENKZYW001935: 0 days 00:05:03.941971830\n",
            "Average time difference for sensor ID ENKZYW001958: 0 days 00:05:05.446268468\n"
          ]
        }
      ]
    },
    {
      "cell_type": "markdown",
      "source": [
        "❌ So the data is not exactly at 5 minutes differece but we can approximate it to 5 minute"
      ],
      "metadata": {
        "id": "uEDtv4gBS2Dw"
      }
    },
    {
      "cell_type": "code",
      "source": [
        "# Calculate the time difference between consecutive rows\n",
        "df_outdoor['time_diff'] = df_outdoor['datetime'] - df_outdoor['datetime'].shift(1)\n",
        "\n",
        "# Calculate the average time difference\n",
        "avg_time_diff = df_outdoor['time_diff'].mean()\n",
        "\n",
        "# Print the result\n",
        "print(\"The average time difference between consecutive rows in df_outdoor is:\", avg_time_diff)"
      ],
      "metadata": {
        "colab": {
          "base_uri": "https://localhost:8080/"
        },
        "id": "5AZYWUVG2beT",
        "outputId": "c4f39663-d08a-4e68-d884-3b8f92c3bf37"
      },
      "execution_count": 128,
      "outputs": [
        {
          "output_type": "stream",
          "name": "stdout",
          "text": [
            "The average time difference between consecutive rows in df_outdoor is: 0 days 00:13:55.558630231\n"
          ]
        }
      ]
    },
    {
      "cell_type": "markdown",
      "source": [
        "#### Stats Check:"
      ],
      "metadata": {
        "id": "0huLXvX6M7ly"
      }
    },
    {
      "cell_type": "markdown",
      "source": [
        "The required operational values are:\n",
        "\n",
        "\n",
        "![image.png](data:image/png;base64,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)"
      ],
      "metadata": {
        "id": "9rwOUMcUUbuw"
      }
    },
    {
      "cell_type": "code",
      "source": [
        "# Check range of values\n",
        "df_indoor.describe()"
      ],
      "metadata": {
        "colab": {
          "base_uri": "https://localhost:8080/",
          "height": 300
        },
        "id": "ZlVqXiKHT0GP",
        "outputId": "7d1e3446-7865-49ba-cad9-06c5aea8d9c1"
      },
      "execution_count": 54,
      "outputs": [
        {
          "output_type": "execute_result",
          "data": {
            "text/plain": [
              "                temp       humidity            co2\n",
              "count  102629.000000  102629.000000  102629.000000\n",
              "mean       23.518861      31.273412     565.377155\n",
              "std         1.151765       5.090771     150.045277\n",
              "min        13.000000      20.000000     411.000000\n",
              "25%        22.900000      28.000000     446.000000\n",
              "50%        23.700000      30.000000     508.000000\n",
              "75%        24.300000      34.000000     652.000000\n",
              "max        27.200000      62.000000    1378.000000"
            ],
            "text/html": [
              "\n",
              "  <div id=\"df-2ade9935-bae4-4312-8697-661ffc613af2\">\n",
              "    <div class=\"colab-df-container\">\n",
              "      <div>\n",
              "<style scoped>\n",
              "    .dataframe tbody tr th:only-of-type {\n",
              "        vertical-align: middle;\n",
              "    }\n",
              "\n",
              "    .dataframe tbody tr th {\n",
              "        vertical-align: top;\n",
              "    }\n",
              "\n",
              "    .dataframe thead th {\n",
              "        text-align: right;\n",
              "    }\n",
              "</style>\n",
              "<table border=\"1\" class=\"dataframe\">\n",
              "  <thead>\n",
              "    <tr style=\"text-align: right;\">\n",
              "      <th></th>\n",
              "      <th>temp</th>\n",
              "      <th>humidity</th>\n",
              "      <th>co2</th>\n",
              "    </tr>\n",
              "  </thead>\n",
              "  <tbody>\n",
              "    <tr>\n",
              "      <th>count</th>\n",
              "      <td>102629.000000</td>\n",
              "      <td>102629.000000</td>\n",
              "      <td>102629.000000</td>\n",
              "    </tr>\n",
              "    <tr>\n",
              "      <th>mean</th>\n",
              "      <td>23.518861</td>\n",
              "      <td>31.273412</td>\n",
              "      <td>565.377155</td>\n",
              "    </tr>\n",
              "    <tr>\n",
              "      <th>std</th>\n",
              "      <td>1.151765</td>\n",
              "      <td>5.090771</td>\n",
              "      <td>150.045277</td>\n",
              "    </tr>\n",
              "    <tr>\n",
              "      <th>min</th>\n",
              "      <td>13.000000</td>\n",
              "      <td>20.000000</td>\n",
              "      <td>411.000000</td>\n",
              "    </tr>\n",
              "    <tr>\n",
              "      <th>25%</th>\n",
              "      <td>22.900000</td>\n",
              "      <td>28.000000</td>\n",
              "      <td>446.000000</td>\n",
              "    </tr>\n",
              "    <tr>\n",
              "      <th>50%</th>\n",
              "      <td>23.700000</td>\n",
              "      <td>30.000000</td>\n",
              "      <td>508.000000</td>\n",
              "    </tr>\n",
              "    <tr>\n",
              "      <th>75%</th>\n",
              "      <td>24.300000</td>\n",
              "      <td>34.000000</td>\n",
              "      <td>652.000000</td>\n",
              "    </tr>\n",
              "    <tr>\n",
              "      <th>max</th>\n",
              "      <td>27.200000</td>\n",
              "      <td>62.000000</td>\n",
              "      <td>1378.000000</td>\n",
              "    </tr>\n",
              "  </tbody>\n",
              "</table>\n",
              "</div>\n",
              "      <button class=\"colab-df-convert\" onclick=\"convertToInteractive('df-2ade9935-bae4-4312-8697-661ffc613af2')\"\n",
              "              title=\"Convert this dataframe to an interactive table.\"\n",
              "              style=\"display:none;\">\n",
              "        \n",
              "  <svg xmlns=\"http://www.w3.org/2000/svg\" height=\"24px\"viewBox=\"0 0 24 24\"\n",
              "       width=\"24px\">\n",
              "    <path d=\"M0 0h24v24H0V0z\" fill=\"none\"/>\n",
              "    <path d=\"M18.56 5.44l.94 2.06.94-2.06 2.06-.94-2.06-.94-.94-2.06-.94 2.06-2.06.94zm-11 1L8.5 8.5l.94-2.06 2.06-.94-2.06-.94L8.5 2.5l-.94 2.06-2.06.94zm10 10l.94 2.06.94-2.06 2.06-.94-2.06-.94-.94-2.06-.94 2.06-2.06.94z\"/><path d=\"M17.41 7.96l-1.37-1.37c-.4-.4-.92-.59-1.43-.59-.52 0-1.04.2-1.43.59L10.3 9.45l-7.72 7.72c-.78.78-.78 2.05 0 2.83L4 21.41c.39.39.9.59 1.41.59.51 0 1.02-.2 1.41-.59l7.78-7.78 2.81-2.81c.8-.78.8-2.07 0-2.86zM5.41 20L4 18.59l7.72-7.72 1.47 1.35L5.41 20z\"/>\n",
              "  </svg>\n",
              "      </button>\n",
              "      \n",
              "  <style>\n",
              "    .colab-df-container {\n",
              "      display:flex;\n",
              "      flex-wrap:wrap;\n",
              "      gap: 12px;\n",
              "    }\n",
              "\n",
              "    .colab-df-convert {\n",
              "      background-color: #E8F0FE;\n",
              "      border: none;\n",
              "      border-radius: 50%;\n",
              "      cursor: pointer;\n",
              "      display: none;\n",
              "      fill: #1967D2;\n",
              "      height: 32px;\n",
              "      padding: 0 0 0 0;\n",
              "      width: 32px;\n",
              "    }\n",
              "\n",
              "    .colab-df-convert:hover {\n",
              "      background-color: #E2EBFA;\n",
              "      box-shadow: 0px 1px 2px rgba(60, 64, 67, 0.3), 0px 1px 3px 1px rgba(60, 64, 67, 0.15);\n",
              "      fill: #174EA6;\n",
              "    }\n",
              "\n",
              "    [theme=dark] .colab-df-convert {\n",
              "      background-color: #3B4455;\n",
              "      fill: #D2E3FC;\n",
              "    }\n",
              "\n",
              "    [theme=dark] .colab-df-convert:hover {\n",
              "      background-color: #434B5C;\n",
              "      box-shadow: 0px 1px 3px 1px rgba(0, 0, 0, 0.15);\n",
              "      filter: drop-shadow(0px 1px 2px rgba(0, 0, 0, 0.3));\n",
              "      fill: #FFFFFF;\n",
              "    }\n",
              "  </style>\n",
              "\n",
              "      <script>\n",
              "        const buttonEl =\n",
              "          document.querySelector('#df-2ade9935-bae4-4312-8697-661ffc613af2 button.colab-df-convert');\n",
              "        buttonEl.style.display =\n",
              "          google.colab.kernel.accessAllowed ? 'block' : 'none';\n",
              "\n",
              "        async function convertToInteractive(key) {\n",
              "          const element = document.querySelector('#df-2ade9935-bae4-4312-8697-661ffc613af2');\n",
              "          const dataTable =\n",
              "            await google.colab.kernel.invokeFunction('convertToInteractive',\n",
              "                                                     [key], {});\n",
              "          if (!dataTable) return;\n",
              "\n",
              "          const docLinkHtml = 'Like what you see? Visit the ' +\n",
              "            '<a target=\"_blank\" href=https://colab.research.google.com/notebooks/data_table.ipynb>data table notebook</a>'\n",
              "            + ' to learn more about interactive tables.';\n",
              "          element.innerHTML = '';\n",
              "          dataTable['output_type'] = 'display_data';\n",
              "          await google.colab.output.renderOutput(dataTable, element);\n",
              "          const docLink = document.createElement('div');\n",
              "          docLink.innerHTML = docLinkHtml;\n",
              "          element.appendChild(docLink);\n",
              "        }\n",
              "      </script>\n",
              "    </div>\n",
              "  </div>\n",
              "  "
            ]
          },
          "metadata": {},
          "execution_count": 54
        }
      ]
    },
    {
      "cell_type": "code",
      "source": [
        "# Check values for min and max\n",
        "print('IAQ Data Value Ranges:')\n",
        "df_indoor.agg(['min', 'max'])"
      ],
      "metadata": {
        "colab": {
          "base_uri": "https://localhost:8080/",
          "height": 129
        },
        "id": "Fs5WE5APMCMx",
        "outputId": "bd14ccba-50ef-486c-9b0d-5e02fd9236b8"
      },
      "execution_count": 57,
      "outputs": [
        {
          "output_type": "stream",
          "name": "stdout",
          "text": [
            "IAQ Data Value Ranges:\n"
          ]
        },
        {
          "output_type": "execute_result",
          "data": {
            "text/plain": [
              "     temp  humidity   co2     sensor_id                  datetime        date  \\\n",
              "min  13.0        20   411  ENKZYW001792 2023-01-23 00:00:16+00:00  2023-01-23   \n",
              "max  27.2        62  1378  ENKZYW001958 2023-02-19 23:59:36+00:00  2023-02-19   \n",
              "\n",
              "         time  \n",
              "min  00:00:00  \n",
              "max  23:59:59  "
            ],
            "text/html": [
              "\n",
              "  <div id=\"df-9d1c5604-ed8f-4836-bd35-2523c17ee5af\">\n",
              "    <div class=\"colab-df-container\">\n",
              "      <div>\n",
              "<style scoped>\n",
              "    .dataframe tbody tr th:only-of-type {\n",
              "        vertical-align: middle;\n",
              "    }\n",
              "\n",
              "    .dataframe tbody tr th {\n",
              "        vertical-align: top;\n",
              "    }\n",
              "\n",
              "    .dataframe thead th {\n",
              "        text-align: right;\n",
              "    }\n",
              "</style>\n",
              "<table border=\"1\" class=\"dataframe\">\n",
              "  <thead>\n",
              "    <tr style=\"text-align: right;\">\n",
              "      <th></th>\n",
              "      <th>temp</th>\n",
              "      <th>humidity</th>\n",
              "      <th>co2</th>\n",
              "      <th>sensor_id</th>\n",
              "      <th>datetime</th>\n",
              "      <th>date</th>\n",
              "      <th>time</th>\n",
              "    </tr>\n",
              "  </thead>\n",
              "  <tbody>\n",
              "    <tr>\n",
              "      <th>min</th>\n",
              "      <td>13.0</td>\n",
              "      <td>20</td>\n",
              "      <td>411</td>\n",
              "      <td>ENKZYW001792</td>\n",
              "      <td>2023-01-23 00:00:16+00:00</td>\n",
              "      <td>2023-01-23</td>\n",
              "      <td>00:00:00</td>\n",
              "    </tr>\n",
              "    <tr>\n",
              "      <th>max</th>\n",
              "      <td>27.2</td>\n",
              "      <td>62</td>\n",
              "      <td>1378</td>\n",
              "      <td>ENKZYW001958</td>\n",
              "      <td>2023-02-19 23:59:36+00:00</td>\n",
              "      <td>2023-02-19</td>\n",
              "      <td>23:59:59</td>\n",
              "    </tr>\n",
              "  </tbody>\n",
              "</table>\n",
              "</div>\n",
              "      <button class=\"colab-df-convert\" onclick=\"convertToInteractive('df-9d1c5604-ed8f-4836-bd35-2523c17ee5af')\"\n",
              "              title=\"Convert this dataframe to an interactive table.\"\n",
              "              style=\"display:none;\">\n",
              "        \n",
              "  <svg xmlns=\"http://www.w3.org/2000/svg\" height=\"24px\"viewBox=\"0 0 24 24\"\n",
              "       width=\"24px\">\n",
              "    <path d=\"M0 0h24v24H0V0z\" fill=\"none\"/>\n",
              "    <path d=\"M18.56 5.44l.94 2.06.94-2.06 2.06-.94-2.06-.94-.94-2.06-.94 2.06-2.06.94zm-11 1L8.5 8.5l.94-2.06 2.06-.94-2.06-.94L8.5 2.5l-.94 2.06-2.06.94zm10 10l.94 2.06.94-2.06 2.06-.94-2.06-.94-.94-2.06-.94 2.06-2.06.94z\"/><path d=\"M17.41 7.96l-1.37-1.37c-.4-.4-.92-.59-1.43-.59-.52 0-1.04.2-1.43.59L10.3 9.45l-7.72 7.72c-.78.78-.78 2.05 0 2.83L4 21.41c.39.39.9.59 1.41.59.51 0 1.02-.2 1.41-.59l7.78-7.78 2.81-2.81c.8-.78.8-2.07 0-2.86zM5.41 20L4 18.59l7.72-7.72 1.47 1.35L5.41 20z\"/>\n",
              "  </svg>\n",
              "      </button>\n",
              "      \n",
              "  <style>\n",
              "    .colab-df-container {\n",
              "      display:flex;\n",
              "      flex-wrap:wrap;\n",
              "      gap: 12px;\n",
              "    }\n",
              "\n",
              "    .colab-df-convert {\n",
              "      background-color: #E8F0FE;\n",
              "      border: none;\n",
              "      border-radius: 50%;\n",
              "      cursor: pointer;\n",
              "      display: none;\n",
              "      fill: #1967D2;\n",
              "      height: 32px;\n",
              "      padding: 0 0 0 0;\n",
              "      width: 32px;\n",
              "    }\n",
              "\n",
              "    .colab-df-convert:hover {\n",
              "      background-color: #E2EBFA;\n",
              "      box-shadow: 0px 1px 2px rgba(60, 64, 67, 0.3), 0px 1px 3px 1px rgba(60, 64, 67, 0.15);\n",
              "      fill: #174EA6;\n",
              "    }\n",
              "\n",
              "    [theme=dark] .colab-df-convert {\n",
              "      background-color: #3B4455;\n",
              "      fill: #D2E3FC;\n",
              "    }\n",
              "\n",
              "    [theme=dark] .colab-df-convert:hover {\n",
              "      background-color: #434B5C;\n",
              "      box-shadow: 0px 1px 3px 1px rgba(0, 0, 0, 0.15);\n",
              "      filter: drop-shadow(0px 1px 2px rgba(0, 0, 0, 0.3));\n",
              "      fill: #FFFFFF;\n",
              "    }\n",
              "  </style>\n",
              "\n",
              "      <script>\n",
              "        const buttonEl =\n",
              "          document.querySelector('#df-9d1c5604-ed8f-4836-bd35-2523c17ee5af button.colab-df-convert');\n",
              "        buttonEl.style.display =\n",
              "          google.colab.kernel.accessAllowed ? 'block' : 'none';\n",
              "\n",
              "        async function convertToInteractive(key) {\n",
              "          const element = document.querySelector('#df-9d1c5604-ed8f-4836-bd35-2523c17ee5af');\n",
              "          const dataTable =\n",
              "            await google.colab.kernel.invokeFunction('convertToInteractive',\n",
              "                                                     [key], {});\n",
              "          if (!dataTable) return;\n",
              "\n",
              "          const docLinkHtml = 'Like what you see? Visit the ' +\n",
              "            '<a target=\"_blank\" href=https://colab.research.google.com/notebooks/data_table.ipynb>data table notebook</a>'\n",
              "            + ' to learn more about interactive tables.';\n",
              "          element.innerHTML = '';\n",
              "          dataTable['output_type'] = 'display_data';\n",
              "          await google.colab.output.renderOutput(dataTable, element);\n",
              "          const docLink = document.createElement('div');\n",
              "          docLink.innerHTML = docLinkHtml;\n",
              "          element.appendChild(docLink);\n",
              "        }\n",
              "      </script>\n",
              "    </div>\n",
              "  </div>\n",
              "  "
            ]
          },
          "metadata": {},
          "execution_count": 57
        }
      ]
    },
    {
      "cell_type": "markdown",
      "source": [
        "📓Note:\n",
        "\n",
        "1.   There are few data point where temperature falls below the required operational standard, minimum being at 13 degree\n",
        "2.   There are some data point where CO2 level exceded the optimal levels with max at 1378 ppm\n",
        "\n"
      ],
      "metadata": {
        "id": "jAXoUqJRUu4V"
      }
    },
    {
      "cell_type": "code",
      "source": [
        "# Check range of values\n",
        "df_outdoor.describe()"
      ],
      "metadata": {
        "colab": {
          "base_uri": "https://localhost:8080/",
          "height": 300
        },
        "id": "qA55qMhEULt9",
        "outputId": "61419ee1-b5bc-4724-894c-40944a498944"
      },
      "execution_count": 55,
      "outputs": [
        {
          "output_type": "execute_result",
          "data": {
            "text/plain": [
              "       temperature     humidity    windSpeed\n",
              "count  2892.000000  2892.000000  2892.000000\n",
              "mean      8.109336    82.011929     1.048029\n",
              "std       2.944377     6.163737     1.331072\n",
              "min      -2.700000    50.000000     0.000000\n",
              "25%       6.200000    79.000000     0.000000\n",
              "50%       8.300000    83.000000     0.700000\n",
              "75%      10.500000    86.700000     1.200000\n",
              "max      13.800000    93.000000     8.100000"
            ],
            "text/html": [
              "\n",
              "  <div id=\"df-c83501a6-3ad8-4059-b966-05cd2bd94bbb\">\n",
              "    <div class=\"colab-df-container\">\n",
              "      <div>\n",
              "<style scoped>\n",
              "    .dataframe tbody tr th:only-of-type {\n",
              "        vertical-align: middle;\n",
              "    }\n",
              "\n",
              "    .dataframe tbody tr th {\n",
              "        vertical-align: top;\n",
              "    }\n",
              "\n",
              "    .dataframe thead th {\n",
              "        text-align: right;\n",
              "    }\n",
              "</style>\n",
              "<table border=\"1\" class=\"dataframe\">\n",
              "  <thead>\n",
              "    <tr style=\"text-align: right;\">\n",
              "      <th></th>\n",
              "      <th>temperature</th>\n",
              "      <th>humidity</th>\n",
              "      <th>windSpeed</th>\n",
              "    </tr>\n",
              "  </thead>\n",
              "  <tbody>\n",
              "    <tr>\n",
              "      <th>count</th>\n",
              "      <td>2892.000000</td>\n",
              "      <td>2892.000000</td>\n",
              "      <td>2892.000000</td>\n",
              "    </tr>\n",
              "    <tr>\n",
              "      <th>mean</th>\n",
              "      <td>8.109336</td>\n",
              "      <td>82.011929</td>\n",
              "      <td>1.048029</td>\n",
              "    </tr>\n",
              "    <tr>\n",
              "      <th>std</th>\n",
              "      <td>2.944377</td>\n",
              "      <td>6.163737</td>\n",
              "      <td>1.331072</td>\n",
              "    </tr>\n",
              "    <tr>\n",
              "      <th>min</th>\n",
              "      <td>-2.700000</td>\n",
              "      <td>50.000000</td>\n",
              "      <td>0.000000</td>\n",
              "    </tr>\n",
              "    <tr>\n",
              "      <th>25%</th>\n",
              "      <td>6.200000</td>\n",
              "      <td>79.000000</td>\n",
              "      <td>0.000000</td>\n",
              "    </tr>\n",
              "    <tr>\n",
              "      <th>50%</th>\n",
              "      <td>8.300000</td>\n",
              "      <td>83.000000</td>\n",
              "      <td>0.700000</td>\n",
              "    </tr>\n",
              "    <tr>\n",
              "      <th>75%</th>\n",
              "      <td>10.500000</td>\n",
              "      <td>86.700000</td>\n",
              "      <td>1.200000</td>\n",
              "    </tr>\n",
              "    <tr>\n",
              "      <th>max</th>\n",
              "      <td>13.800000</td>\n",
              "      <td>93.000000</td>\n",
              "      <td>8.100000</td>\n",
              "    </tr>\n",
              "  </tbody>\n",
              "</table>\n",
              "</div>\n",
              "      <button class=\"colab-df-convert\" onclick=\"convertToInteractive('df-c83501a6-3ad8-4059-b966-05cd2bd94bbb')\"\n",
              "              title=\"Convert this dataframe to an interactive table.\"\n",
              "              style=\"display:none;\">\n",
              "        \n",
              "  <svg xmlns=\"http://www.w3.org/2000/svg\" height=\"24px\"viewBox=\"0 0 24 24\"\n",
              "       width=\"24px\">\n",
              "    <path d=\"M0 0h24v24H0V0z\" fill=\"none\"/>\n",
              "    <path d=\"M18.56 5.44l.94 2.06.94-2.06 2.06-.94-2.06-.94-.94-2.06-.94 2.06-2.06.94zm-11 1L8.5 8.5l.94-2.06 2.06-.94-2.06-.94L8.5 2.5l-.94 2.06-2.06.94zm10 10l.94 2.06.94-2.06 2.06-.94-2.06-.94-.94-2.06-.94 2.06-2.06.94z\"/><path d=\"M17.41 7.96l-1.37-1.37c-.4-.4-.92-.59-1.43-.59-.52 0-1.04.2-1.43.59L10.3 9.45l-7.72 7.72c-.78.78-.78 2.05 0 2.83L4 21.41c.39.39.9.59 1.41.59.51 0 1.02-.2 1.41-.59l7.78-7.78 2.81-2.81c.8-.78.8-2.07 0-2.86zM5.41 20L4 18.59l7.72-7.72 1.47 1.35L5.41 20z\"/>\n",
              "  </svg>\n",
              "      </button>\n",
              "      \n",
              "  <style>\n",
              "    .colab-df-container {\n",
              "      display:flex;\n",
              "      flex-wrap:wrap;\n",
              "      gap: 12px;\n",
              "    }\n",
              "\n",
              "    .colab-df-convert {\n",
              "      background-color: #E8F0FE;\n",
              "      border: none;\n",
              "      border-radius: 50%;\n",
              "      cursor: pointer;\n",
              "      display: none;\n",
              "      fill: #1967D2;\n",
              "      height: 32px;\n",
              "      padding: 0 0 0 0;\n",
              "      width: 32px;\n",
              "    }\n",
              "\n",
              "    .colab-df-convert:hover {\n",
              "      background-color: #E2EBFA;\n",
              "      box-shadow: 0px 1px 2px rgba(60, 64, 67, 0.3), 0px 1px 3px 1px rgba(60, 64, 67, 0.15);\n",
              "      fill: #174EA6;\n",
              "    }\n",
              "\n",
              "    [theme=dark] .colab-df-convert {\n",
              "      background-color: #3B4455;\n",
              "      fill: #D2E3FC;\n",
              "    }\n",
              "\n",
              "    [theme=dark] .colab-df-convert:hover {\n",
              "      background-color: #434B5C;\n",
              "      box-shadow: 0px 1px 3px 1px rgba(0, 0, 0, 0.15);\n",
              "      filter: drop-shadow(0px 1px 2px rgba(0, 0, 0, 0.3));\n",
              "      fill: #FFFFFF;\n",
              "    }\n",
              "  </style>\n",
              "\n",
              "      <script>\n",
              "        const buttonEl =\n",
              "          document.querySelector('#df-c83501a6-3ad8-4059-b966-05cd2bd94bbb button.colab-df-convert');\n",
              "        buttonEl.style.display =\n",
              "          google.colab.kernel.accessAllowed ? 'block' : 'none';\n",
              "\n",
              "        async function convertToInteractive(key) {\n",
              "          const element = document.querySelector('#df-c83501a6-3ad8-4059-b966-05cd2bd94bbb');\n",
              "          const dataTable =\n",
              "            await google.colab.kernel.invokeFunction('convertToInteractive',\n",
              "                                                     [key], {});\n",
              "          if (!dataTable) return;\n",
              "\n",
              "          const docLinkHtml = 'Like what you see? Visit the ' +\n",
              "            '<a target=\"_blank\" href=https://colab.research.google.com/notebooks/data_table.ipynb>data table notebook</a>'\n",
              "            + ' to learn more about interactive tables.';\n",
              "          element.innerHTML = '';\n",
              "          dataTable['output_type'] = 'display_data';\n",
              "          await google.colab.output.renderOutput(dataTable, element);\n",
              "          const docLink = document.createElement('div');\n",
              "          docLink.innerHTML = docLinkHtml;\n",
              "          element.appendChild(docLink);\n",
              "        }\n",
              "      </script>\n",
              "    </div>\n",
              "  </div>\n",
              "  "
            ]
          },
          "metadata": {},
          "execution_count": 55
        }
      ]
    },
    {
      "cell_type": "markdown",
      "source": [
        "### Visualization:"
      ],
      "metadata": {
        "id": "V8JlecDdeVFN"
      }
    },
    {
      "cell_type": "code",
      "source": [
        "import matplotlib.pyplot as plt\n",
        "import seaborn as sns\n",
        "import numpy as np"
      ],
      "metadata": {
        "id": "fMi_zMdyejxu"
      },
      "execution_count": 95,
      "outputs": []
    },
    {
      "cell_type": "code",
      "source": [
        "from matplotlib import colormaps\n",
        "# Plotting sensors on the floor plan\n",
        "fig, ax = plt.subplots(figsize=(7,5))\n",
        "#Blue color for 3rd floor and Green color for 4th floor\n",
        "colors = {'H-3F':'blue', 'H-4F':'green'}\n",
        "\n",
        "ax.scatter(x=floor_sensor['location.x'], \n",
        "           y=floor_sensor['location.y'], \n",
        "           alpha=0.5, \n",
        "           c= floor_sensor['id'].map(colors)\n",
        "           )\n",
        "ax.set_xlabel('X')\n",
        "ax.set_ylabel('Y')\n",
        "ax.set_title('Sensor Locations for both the Floor')\n",
        "plt.show()"
      ],
      "metadata": {
        "colab": {
          "base_uri": "https://localhost:8080/",
          "height": 350
        },
        "id": "yMV9dqoieYen",
        "outputId": "b7842413-65ce-42bc-e549-3ecb3f21745e"
      },
      "execution_count": 80,
      "outputs": [
        {
          "output_type": "display_data",
          "data": {
            "text/plain": [
              "<Figure size 504x360 with 1 Axes>"
            ],
            "image/png": "[encoded data removed]"
          },
          "metadata": {
            "needs_background": "light"
          }
        }
      ]
    },
    {
      "cell_type": "code",
      "source": [
        "# Plot the correlation matrix for temperature, humidity, and CO2 levels\n",
        "sns.heatmap(df_indoor[['temp', 'humidity', 'co2']].corr(), annot=True)\n",
        "plt.show()"
      ],
      "metadata": {
        "colab": {
          "base_uri": "https://localhost:8080/",
          "height": 269
        },
        "id": "sZpiGPayp7Hg",
        "outputId": "f4668a61-61c2-44d7-ca43-3b54143c4729"
      },
      "execution_count": 83,
      "outputs": [
        {
          "output_type": "display_data",
          "data": {
            "text/plain": [
              "<Figure size 432x288 with 2 Axes>"
            ],
            "image/png": "[encoded data removed]"
          },
          "metadata": {
            "needs_background": "light"
          }
        }
      ]
    },
    {
      "cell_type": "code",
      "source": [
        "# Resample the data to hourly frequency and compute the average temperature\n",
        "hourly_temps = df_indoor.set_index('datetime').groupby('sensor_id')['temp'].resample('H').mean()\n",
        "fig, ax = plt.subplots(figsize=(10,5))\n",
        "# Plot the hourly temperature time-series for each sensor\n",
        "for sensor_id in hourly_temps.index.levels[0]:\n",
        "    hourly_temps.loc[sensor_id].plot(label=sensor_id)\n",
        "# Put a legend to the right of the current axis\n",
        "ax.legend(loc='center left', bbox_to_anchor=(1, 0.5))\n",
        "plt.show()"
      ],
      "metadata": {
        "colab": {
          "base_uri": "https://localhost:8080/",
          "height": 357
        },
        "id": "bKEso0pOrCTz",
        "outputId": "59d45b22-4cdc-4e4a-beab-242d83d186d6"
      },
      "execution_count": 88,
      "outputs": [
        {
          "output_type": "display_data",
          "data": {
            "text/plain": [
              "<Figure size 720x360 with 1 Axes>"
            ],
            "image/png": "[encoded data removed]"
          },
          "metadata": {
            "needs_background": "light"
          }
        }
      ]
    },
    {
      "cell_type": "code",
      "source": [
        "# Grouping data by sensor_id to get average CO2 readings\n",
        "co2_by_sensor = df_indoor.groupby('sensor_id')['co2'].mean()\n",
        "\n",
        "# Sorting data in descending order of average CO2 readings\n",
        "co2_by_sensor.sort_values(ascending=False, inplace=True)\n",
        "\n",
        "# Plotting average CO2 readings for each sensor\n",
        "co2_by_sensor.plot(kind='bar', figsize=(10, 6))\n",
        "plt.title('Average CO2 Level by Sensor')\n",
        "plt.xlabel('Sensor ID')\n",
        "plt.ylabel('CO2 Level (ppm)')\n",
        "plt.show()"
      ],
      "metadata": {
        "colab": {
          "base_uri": "https://localhost:8080/",
          "height": 475
        },
        "id": "R42BhRvvsk7L",
        "outputId": "ab3aa508-e9d7-4371-b6f7-38472e5ffb19"
      },
      "execution_count": 96,
      "outputs": [
        {
          "output_type": "display_data",
          "data": {
            "text/plain": [
              "<Figure size 720x432 with 1 Axes>"
            ],
            "image/png": "[encoded data removed]"
          },
          "metadata": {
            "needs_background": "light"
          }
        }
      ]
    },
    {
      "cell_type": "markdown",
      "source": [
        "### Data Wrangling: \n"
      ],
      "metadata": {
        "id": "8o2Z8vtt54GC"
      }
    },
    {
      "cell_type": "code",
      "source": [
        "import math\n",
        "\n",
        "# Define the saturation vapor pressure function\n",
        "def sat_vapor_pressure(temp):\n",
        "    return 611.2 * math.exp((17.67 * temp) / (temp + 243.5))\n",
        "\n",
        "# Define the function to calculate the humidity ratio\n",
        "def humidity_ratio(temp, humidity):\n",
        "    sat_pressure = sat_vapor_pressure(temp)\n",
        "    partial_pressure = sat_pressure * humidity / 100\n",
        "    return 0.62198 * partial_pressure / (101325 - partial_pressure)\n",
        "\n",
        "# Calculate the humidity ratio for each row in the indoor data\n",
        "df_indoor['humidity_ratio'] = df_indoor.apply(lambda x: humidity_ratio(x['temp'], x['humidity']), axis=1)"
      ],
      "metadata": {
        "id": "eG7JauM5ds6F"
      },
      "execution_count": 175,
      "outputs": []
    },
    {
      "cell_type": "markdown",
      "source": [
        "#### Rollup Data: Daily and Hourly"
      ],
      "metadata": {
        "id": "dDtHvSKM47Zv"
      }
    },
    {
      "cell_type": "code",
      "source": [
        "# Set datetime column as index\n",
        "df_indoor_ = df_indoor.set_index('datetime')\n",
        "\n",
        "# Resample data by day and sensor_id and calculate the mean values\n",
        "df_indoor_daily = df_indoor_.groupby('sensor_id').resample('D').mean()\n",
        "# Resample data by hour and sensor_id and calculate the mean values\n",
        "df_indoor_hour = df_indoor_.groupby('sensor_id').resample('H').mean()\n",
        "\n",
        "# Reset the index to include sensor_id and datetime columns\n",
        "df_indoor_daily = df_indoor_daily.reset_index()\n",
        "df_indoor_hour = df_indoor_hour.reset_index()\n",
        "\n",
        "# Print the result\n",
        "print(df_indoor_daily.head(5))\n",
        "print(df_indoor_hour.head(5))"
      ],
      "metadata": {
        "colab": {
          "base_uri": "https://localhost:8080/"
        },
        "id": "7EAShScu4nCv",
        "outputId": "836f99dd-535d-4b11-8389-70e574cc8d8b"
      },
      "execution_count": 176,
      "outputs": [
        {
          "output_type": "stream",
          "name": "stdout",
          "text": [
            "      sensor_id                  datetime       temp   humidity         co2  \\\n",
            "0  ENKZYW001792 2023-01-23 00:00:00+00:00  23.673050  22.673759  846.897163   \n",
            "1  ENKZYW001792 2023-01-24 00:00:00+00:00  24.208865  23.950355  584.262411   \n",
            "2  ENKZYW001792 2023-01-25 00:00:00+00:00  24.293262  25.088652  670.851064   \n",
            "3  ENKZYW001792 2023-01-26 00:00:00+00:00  24.694306  27.644128  588.911032   \n",
            "4  ENKZYW001792 2023-01-27 00:00:00+00:00  24.641958  25.678322  552.496503   \n",
            "\n",
            "   humidity_ratio  \n",
            "0        0.004107  \n",
            "1        0.004475  \n",
            "2        0.004719  \n",
            "3        0.005328  \n",
            "4        0.004926  \n",
            "      sensor_id                  datetime       temp   humidity         co2  \\\n",
            "0  ENKZYW001792 2023-01-23 00:00:00+00:00  23.491667  22.000000  794.083333   \n",
            "1  ENKZYW001792 2023-01-23 01:00:00+00:00  23.409091  21.181818  790.272727   \n",
            "2  ENKZYW001792 2023-01-23 02:00:00+00:00  23.266667  21.000000  782.500000   \n",
            "3  ENKZYW001792 2023-01-23 03:00:00+00:00  23.200000  21.000000  775.500000   \n",
            "4  ENKZYW001792 2023-01-23 04:00:00+00:00  23.136364  20.909091  756.000000   \n",
            "\n",
            "   humidity_ratio  \n",
            "0        0.003932  \n",
            "1        0.003766  \n",
            "2        0.003701  \n",
            "3        0.003686  \n",
            "4        0.003656  \n"
          ]
        }
      ]
    },
    {
      "cell_type": "code",
      "source": [
        "# Set datetime column as index\n",
        "df_outdoor_ = df_outdoor.set_index('datetime')\n",
        "\n",
        "# Resample data by day and calculate the mean values\n",
        "df_outdoor_daily = df_outdoor_.resample('D').mean()\n",
        "# Resample data by day and calculate the mean values\n",
        "df_outdoor_hour = df_outdoor_.resample('H').mean()\n",
        "\n",
        "# Reset the index to include datetime column\n",
        "df_outdoor_daily = df_outdoor_daily.reset_index()\n",
        "df_outdoor_hour = df_outdoor_hour.reset_index()\n",
        "\n",
        "# Print the result\n",
        "print(df_outdoor_daily.head(5))\n",
        "print(df_outdoor_hour.head(5))"
      ],
      "metadata": {
        "colab": {
          "base_uri": "https://localhost:8080/"
        },
        "id": "TlVvipMq4mzy",
        "outputId": "4c8d96ea-443a-418f-cc2c-108b2e6e0623"
      },
      "execution_count": 167,
      "outputs": [
        {
          "output_type": "stream",
          "name": "stdout",
          "text": [
            "                   datetime  temperature   humidity  windSpeed\n",
            "0 2023-01-23 00:00:00+00:00     0.647826  86.843478        0.0\n",
            "1 2023-01-24 00:00:00+00:00     3.231250  83.246875        0.0\n",
            "2 2023-01-25 00:00:00+00:00     2.467742  91.000000        0.0\n",
            "3 2023-01-26 00:00:00+00:00     4.643478  87.382609        0.0\n",
            "4 2023-01-27 00:00:00+00:00     4.484906  83.373585        0.0\n",
            "                   datetime  temperature  humidity  windSpeed\n",
            "0 2023-01-23 01:00:00+00:00         -1.3      89.5        0.0\n",
            "1 2023-01-23 02:00:00+00:00         -1.5      90.0        0.0\n",
            "2 2023-01-23 03:00:00+00:00         -1.8      90.0        0.0\n",
            "3 2023-01-23 04:00:00+00:00         -2.2      90.7        0.0\n",
            "4 2023-01-23 05:00:00+00:00         -2.3      91.0        0.0\n"
          ]
        }
      ]
    },
    {
      "cell_type": "markdown",
      "source": [
        "#### Merge all data"
      ],
      "metadata": {
        "id": "Y9kIINm15T0N"
      }
    },
    {
      "cell_type": "code",
      "source": [
        "# Merge the floor sensor and indoor data on sensor_id\n",
        "df_merged = pd.merge(floor_sensor, df_indoor_daily, on='sensor_id')\n",
        "# Merge the merged dataframe with floor meta data\n",
        "df_merged = pd.merge(df_merged, floor_meta, on='id')\n",
        "# Merge the merged dataframe with outdoor data on datetime\n",
        "df_merged = pd.merge(df_merged, df_outdoor_daily, on='datetime', how='left')"
      ],
      "metadata": {
        "id": "YXfZtHtV1GmM"
      },
      "execution_count": 132,
      "outputs": []
    },
    {
      "cell_type": "code",
      "source": [
        "df_merged.head(5)"
      ],
      "metadata": {
        "colab": {
          "base_uri": "https://localhost:8080/",
          "height": 206
        },
        "id": "f3ACOYmJ5nmK",
        "outputId": "7011b3cc-b79e-4130-ba3b-c142c59d9a11"
      },
      "execution_count": 134,
      "outputs": [
        {
          "output_type": "execute_result",
          "data": {
            "text/plain": [
              "      sensor_id  location.y  location.x    id                  datetime  \\\n",
              "0  ENKZYW001792      487.47      355.19  H-3F 2023-01-23 00:00:00+00:00   \n",
              "1  ENKZYW001792      487.47      355.19  H-3F 2023-01-24 00:00:00+00:00   \n",
              "2  ENKZYW001792      487.47      355.19  H-3F 2023-01-25 00:00:00+00:00   \n",
              "3  ENKZYW001792      487.47      355.19  H-3F 2023-01-26 00:00:00+00:00   \n",
              "4  ENKZYW001792      487.47      355.19  H-3F 2023-01-27 00:00:00+00:00   \n",
              "\n",
              "        temp  humidity_x         co2  width  height  temperature  humidity_y  \\\n",
              "0  23.673050   22.673759  846.897163   1000     646     0.647826   86.843478   \n",
              "1  24.208865   23.950355  584.262411   1000     646     3.231250   83.246875   \n",
              "2  24.293262   25.088652  670.851064   1000     646     2.467742   91.000000   \n",
              "3  24.694306   27.644128  588.911032   1000     646     4.643478   87.382609   \n",
              "4  24.641958   25.678322  552.496503   1000     646     4.484906   83.373585   \n",
              "\n",
              "   windSpeed  \n",
              "0        0.0  \n",
              "1        0.0  \n",
              "2        0.0  \n",
              "3        0.0  \n",
              "4        0.0  "
            ],
            "text/html": [
              "\n",
              "  <div id=\"df-04deeb1d-fc78-498e-89d2-647165d4f53a\">\n",
              "    <div class=\"colab-df-container\">\n",
              "      <div>\n",
              "<style scoped>\n",
              "    .dataframe tbody tr th:only-of-type {\n",
              "        vertical-align: middle;\n",
              "    }\n",
              "\n",
              "    .dataframe tbody tr th {\n",
              "        vertical-align: top;\n",
              "    }\n",
              "\n",
              "    .dataframe thead th {\n",
              "        text-align: right;\n",
              "    }\n",
              "</style>\n",
              "<table border=\"1\" class=\"dataframe\">\n",
              "  <thead>\n",
              "    <tr style=\"text-align: right;\">\n",
              "      <th></th>\n",
              "      <th>sensor_id</th>\n",
              "      <th>location.y</th>\n",
              "      <th>location.x</th>\n",
              "      <th>id</th>\n",
              "      <th>datetime</th>\n",
              "      <th>temp</th>\n",
              "      <th>humidity_x</th>\n",
              "      <th>co2</th>\n",
              "      <th>width</th>\n",
              "      <th>height</th>\n",
              "      <th>temperature</th>\n",
              "      <th>humidity_y</th>\n",
              "      <th>windSpeed</th>\n",
              "    </tr>\n",
              "  </thead>\n",
              "  <tbody>\n",
              "    <tr>\n",
              "      <th>0</th>\n",
              "      <td>ENKZYW001792</td>\n",
              "      <td>487.47</td>\n",
              "      <td>355.19</td>\n",
              "      <td>H-3F</td>\n",
              "      <td>2023-01-23 00:00:00+00:00</td>\n",
              "      <td>23.673050</td>\n",
              "      <td>22.673759</td>\n",
              "      <td>846.897163</td>\n",
              "      <td>1000</td>\n",
              "      <td>646</td>\n",
              "      <td>0.647826</td>\n",
              "      <td>86.843478</td>\n",
              "      <td>0.0</td>\n",
              "    </tr>\n",
              "    <tr>\n",
              "      <th>1</th>\n",
              "      <td>ENKZYW001792</td>\n",
              "      <td>487.47</td>\n",
              "      <td>355.19</td>\n",
              "      <td>H-3F</td>\n",
              "      <td>2023-01-24 00:00:00+00:00</td>\n",
              "      <td>24.208865</td>\n",
              "      <td>23.950355</td>\n",
              "      <td>584.262411</td>\n",
              "      <td>1000</td>\n",
              "      <td>646</td>\n",
              "      <td>3.231250</td>\n",
              "      <td>83.246875</td>\n",
              "      <td>0.0</td>\n",
              "    </tr>\n",
              "    <tr>\n",
              "      <th>2</th>\n",
              "      <td>ENKZYW001792</td>\n",
              "      <td>487.47</td>\n",
              "      <td>355.19</td>\n",
              "      <td>H-3F</td>\n",
              "      <td>2023-01-25 00:00:00+00:00</td>\n",
              "      <td>24.293262</td>\n",
              "      <td>25.088652</td>\n",
              "      <td>670.851064</td>\n",
              "      <td>1000</td>\n",
              "      <td>646</td>\n",
              "      <td>2.467742</td>\n",
              "      <td>91.000000</td>\n",
              "      <td>0.0</td>\n",
              "    </tr>\n",
              "    <tr>\n",
              "      <th>3</th>\n",
              "      <td>ENKZYW001792</td>\n",
              "      <td>487.47</td>\n",
              "      <td>355.19</td>\n",
              "      <td>H-3F</td>\n",
              "      <td>2023-01-26 00:00:00+00:00</td>\n",
              "      <td>24.694306</td>\n",
              "      <td>27.644128</td>\n",
              "      <td>588.911032</td>\n",
              "      <td>1000</td>\n",
              "      <td>646</td>\n",
              "      <td>4.643478</td>\n",
              "      <td>87.382609</td>\n",
              "      <td>0.0</td>\n",
              "    </tr>\n",
              "    <tr>\n",
              "      <th>4</th>\n",
              "      <td>ENKZYW001792</td>\n",
              "      <td>487.47</td>\n",
              "      <td>355.19</td>\n",
              "      <td>H-3F</td>\n",
              "      <td>2023-01-27 00:00:00+00:00</td>\n",
              "      <td>24.641958</td>\n",
              "      <td>25.678322</td>\n",
              "      <td>552.496503</td>\n",
              "      <td>1000</td>\n",
              "      <td>646</td>\n",
              "      <td>4.484906</td>\n",
              "      <td>83.373585</td>\n",
              "      <td>0.0</td>\n",
              "    </tr>\n",
              "  </tbody>\n",
              "</table>\n",
              "</div>\n",
              "      <button class=\"colab-df-convert\" onclick=\"convertToInteractive('df-04deeb1d-fc78-498e-89d2-647165d4f53a')\"\n",
              "              title=\"Convert this dataframe to an interactive table.\"\n",
              "              style=\"display:none;\">\n",
              "        \n",
              "  <svg xmlns=\"http://www.w3.org/2000/svg\" height=\"24px\"viewBox=\"0 0 24 24\"\n",
              "       width=\"24px\">\n",
              "    <path d=\"M0 0h24v24H0V0z\" fill=\"none\"/>\n",
              "    <path d=\"M18.56 5.44l.94 2.06.94-2.06 2.06-.94-2.06-.94-.94-2.06-.94 2.06-2.06.94zm-11 1L8.5 8.5l.94-2.06 2.06-.94-2.06-.94L8.5 2.5l-.94 2.06-2.06.94zm10 10l.94 2.06.94-2.06 2.06-.94-2.06-.94-.94-2.06-.94 2.06-2.06.94z\"/><path d=\"M17.41 7.96l-1.37-1.37c-.4-.4-.92-.59-1.43-.59-.52 0-1.04.2-1.43.59L10.3 9.45l-7.72 7.72c-.78.78-.78 2.05 0 2.83L4 21.41c.39.39.9.59 1.41.59.51 0 1.02-.2 1.41-.59l7.78-7.78 2.81-2.81c.8-.78.8-2.07 0-2.86zM5.41 20L4 18.59l7.72-7.72 1.47 1.35L5.41 20z\"/>\n",
              "  </svg>\n",
              "      </button>\n",
              "      \n",
              "  <style>\n",
              "    .colab-df-container {\n",
              "      display:flex;\n",
              "      flex-wrap:wrap;\n",
              "      gap: 12px;\n",
              "    }\n",
              "\n",
              "    .colab-df-convert {\n",
              "      background-color: #E8F0FE;\n",
              "      border: none;\n",
              "      border-radius: 50%;\n",
              "      cursor: pointer;\n",
              "      display: none;\n",
              "      fill: #1967D2;\n",
              "      height: 32px;\n",
              "      padding: 0 0 0 0;\n",
              "      width: 32px;\n",
              "    }\n",
              "\n",
              "    .colab-df-convert:hover {\n",
              "      background-color: #E2EBFA;\n",
              "      box-shadow: 0px 1px 2px rgba(60, 64, 67, 0.3), 0px 1px 3px 1px rgba(60, 64, 67, 0.15);\n",
              "      fill: #174EA6;\n",
              "    }\n",
              "\n",
              "    [theme=dark] .colab-df-convert {\n",
              "      background-color: #3B4455;\n",
              "      fill: #D2E3FC;\n",
              "    }\n",
              "\n",
              "    [theme=dark] .colab-df-convert:hover {\n",
              "      background-color: #434B5C;\n",
              "      box-shadow: 0px 1px 3px 1px rgba(0, 0, 0, 0.15);\n",
              "      filter: drop-shadow(0px 1px 2px rgba(0, 0, 0, 0.3));\n",
              "      fill: #FFFFFF;\n",
              "    }\n",
              "  </style>\n",
              "\n",
              "      <script>\n",
              "        const buttonEl =\n",
              "          document.querySelector('#df-04deeb1d-fc78-498e-89d2-647165d4f53a button.colab-df-convert');\n",
              "        buttonEl.style.display =\n",
              "          google.colab.kernel.accessAllowed ? 'block' : 'none';\n",
              "\n",
              "        async function convertToInteractive(key) {\n",
              "          const element = document.querySelector('#df-04deeb1d-fc78-498e-89d2-647165d4f53a');\n",
              "          const dataTable =\n",
              "            await google.colab.kernel.invokeFunction('convertToInteractive',\n",
              "                                                     [key], {});\n",
              "          if (!dataTable) return;\n",
              "\n",
              "          const docLinkHtml = 'Like what you see? Visit the ' +\n",
              "            '<a target=\"_blank\" href=https://colab.research.google.com/notebooks/data_table.ipynb>data table notebook</a>'\n",
              "            + ' to learn more about interactive tables.';\n",
              "          element.innerHTML = '';\n",
              "          dataTable['output_type'] = 'display_data';\n",
              "          await google.colab.output.renderOutput(dataTable, element);\n",
              "          const docLink = document.createElement('div');\n",
              "          docLink.innerHTML = docLinkHtml;\n",
              "          element.appendChild(docLink);\n",
              "        }\n",
              "      </script>\n",
              "    </div>\n",
              "  </div>\n",
              "  "
            ]
          },
          "metadata": {},
          "execution_count": 134
        }
      ]
    },
    {
      "cell_type": "code",
      "source": [
        "df_merged.info()"
      ],
      "metadata": {
        "colab": {
          "base_uri": "https://localhost:8080/"
        },
        "id": "H6YfO8rM1HyZ",
        "outputId": "796b8a34-9f32-4ec4-8611-1386337fe577"
      },
      "execution_count": 133,
      "outputs": [
        {
          "output_type": "stream",
          "name": "stdout",
          "text": [
            "<class 'pandas.core.frame.DataFrame'>\n",
            "Int64Index: 377 entries, 0 to 376\n",
            "Data columns (total 13 columns):\n",
            " #   Column       Non-Null Count  Dtype              \n",
            "---  ------       --------------  -----              \n",
            " 0   sensor_id    377 non-null    object             \n",
            " 1   location.y   377 non-null    float64            \n",
            " 2   location.x   377 non-null    float64            \n",
            " 3   id           377 non-null    object             \n",
            " 4   datetime     377 non-null    datetime64[ns, UTC]\n",
            " 5   temp         365 non-null    float64            \n",
            " 6   humidity_x   365 non-null    float64            \n",
            " 7   co2          365 non-null    float64            \n",
            " 8   width        377 non-null    int64              \n",
            " 9   height       377 non-null    int64              \n",
            " 10  temperature  377 non-null    float64            \n",
            " 11  humidity_y   377 non-null    float64            \n",
            " 12  windSpeed    377 non-null    float64            \n",
            "dtypes: datetime64[ns, UTC](1), float64(8), int64(2), object(2)\n",
            "memory usage: 41.2+ KB\n"
          ]
        }
      ]
    },
    {
      "cell_type": "code",
      "source": [
        "df_merged= df_merged.rename(columns={\"id\": \"floor_id\", \n",
        "                          \"temp\": \"temp_in\", \n",
        "                          \"humidity_x\": \"humidity_in\", \n",
        "                          \"co2\": \"co2_in\", \n",
        "                          \"temperature\": \"temp_out\",\n",
        "                          \"humidity_y\": \"humidity_out\",\n",
        "                          \"windSpeed\": \"windSpeed_out\"})"
      ],
      "metadata": {
        "id": "qubWhFJ_7SQe"
      },
      "execution_count": 139,
      "outputs": []
    },
    {
      "cell_type": "markdown",
      "source": [
        "### Sensor wise analysis:"
      ],
      "metadata": {
        "id": "kX5nG0ymC3bx"
      }
    },
    {
      "cell_type": "code",
      "source": [
        "corr_matrix = df_merged.drop(columns=[\"width\", \"height\", \"location.y\", \"location.x\"]).corr()\n",
        "\n",
        "# Set up the matplotlib figure\n",
        "fig, ax = plt.subplots(figsize=(7,7))\n",
        "sns.heatmap(corr_matrix, annot=True)\n",
        "# Set title\n",
        "ax.set_title('Correlation Plot for df_merged')\n",
        "# Show plot\n",
        "plt.show()"
      ],
      "metadata": {
        "colab": {
          "base_uri": "https://localhost:8080/",
          "height": 511
        },
        "id": "Efc8ljir63Pv",
        "outputId": "10d093ac-b7dd-4f24-e940-cb178fe58690"
      },
      "execution_count": 147,
      "outputs": [
        {
          "output_type": "display_data",
          "data": {
            "text/plain": [
              "<Figure size 504x504 with 2 Axes>"
            ],
            "image/png": "[encoded data removed]"
          },
          "metadata": {
            "needs_background": "light"
          }
        }
      ]
    },
    {
      "cell_type": "code",
      "source": [
        "# Create a subset of df_merged with only sensor_id, datetime, temp_in, and temp_out columns\n",
        "temp_data = df_merged[df_merged.floor_id == 'H-3F'][['sensor_id', 'floor_id', 'datetime', 'temp_in', 'temp_out']]\n",
        "\n",
        "# Pivot the temp_data to create separate columns for temp_x and temp_y for each sensor and date\n",
        "temp_data = temp_data.pivot_table(index=['datetime'], columns=['sensor_id'], values=['temp_in', 'temp_out'])\n",
        "\n",
        "# Flatten the column multi-index\n",
        "temp_data.columns = ['_'.join(col).strip() for col in temp_data.columns.values]\n",
        "\n",
        "# Create a correlation matrix\n",
        "corr_matrix = temp_data.corr()\n",
        "\n",
        "# Set up the matplotlib figure\n",
        "fig, ax = plt.subplots(figsize=(10,10))\n",
        "sns.heatmap(corr_matrix[corr_matrix >= 0.4], annot=True)\n",
        "# Set title\n",
        "ax.set_title('Correlation Plot for all the sensor on 3rd floor')\n",
        "# Show plot\n",
        "plt.show()"
      ],
      "metadata": {
        "colab": {
          "base_uri": "https://localhost:8080/",
          "height": 731
        },
        "id": "2KMh-Nj3-Smj",
        "outputId": "f69d2867-1b7f-479d-e2a7-3973fd210876"
      },
      "execution_count": 162,
      "outputs": [
        {
          "output_type": "display_data",
          "data": {
            "text/plain": [
              "<Figure size 720x720 with 2 Axes>"
            ],
            "image/png": "[encoded data removed]"
          },
          "metadata": {
            "needs_background": "light"
          }
        }
      ]
    },
    {
      "cell_type": "code",
      "source": [
        "# Create a subset of df_merged with only sensor_id, datetime, temp_in, and temp_out columns\n",
        "temp_data = df_merged[df_merged.floor_id == 'H-4F'][['sensor_id', 'floor_id', 'datetime', 'temp_in', 'temp_out']]\n",
        "\n",
        "# Pivot the temp_data to create separate columns for temp_x and temp_y for each sensor and date\n",
        "temp_data = temp_data.pivot_table(index=['datetime'], columns=['sensor_id'], values=['temp_in', 'temp_out'])\n",
        "\n",
        "# Flatten the column multi-index\n",
        "temp_data.columns = ['_'.join(col).strip() for col in temp_data.columns.values]\n",
        "\n",
        "# Create a correlation matrix\n",
        "corr_matrix = temp_data.corr()\n",
        "\n",
        "# Set up the matplotlib figure\n",
        "fig, ax = plt.subplots(figsize=(10,10))\n",
        "sns.heatmap(corr_matrix[corr_matrix >= 0.4], annot=True)\n",
        "# Set title\n",
        "ax.set_title('Correlation Plot for all the sensor on 4th floor')\n",
        "# Show plot\n",
        "plt.show()"
      ],
      "metadata": {
        "colab": {
          "base_uri": "https://localhost:8080/",
          "height": 731
        },
        "id": "AH0vK2nYCq6s",
        "outputId": "a63d8c4a-d3bb-4398-e0fe-cc0e53f8db51"
      },
      "execution_count": 163,
      "outputs": [
        {
          "output_type": "display_data",
          "data": {
            "text/plain": [
              "<Figure size 720x720 with 2 Axes>"
            ],
            "image/png": "[encoded data removed]"
          },
          "metadata": {
            "needs_background": "light"
          }
        }
      ]
    },
    {
      "cell_type": "markdown",
      "source": [
        "### Saving processed data as .csv"
      ],
      "metadata": {
        "id": "8JGa_1RXJRy8"
      }
    },
    {
      "cell_type": "code",
      "source": [
        "floor_sensor.to_csv('/content/drive/MyDrive/Colab Notebooks/fandp/clean_data/floor_sensor.csv')\n",
        "floor_meta.to_csv('/content/drive/MyDrive/Colab Notebooks/fandp/clean_data/floor_meta.csv')\n",
        "df_indoor.to_csv('/content/drive/MyDrive/Colab Notebooks/fandp/clean_data/df_indoor.csv')\n",
        "df_outdoor.to_csv('/content/drive/MyDrive/Colab Notebooks/fandp/clean_data/df_outdoor.csv')"
      ],
      "metadata": {
        "id": "0s0AXHcfZsVO"
      },
      "execution_count": null,
      "outputs": []
    },
    {
      "cell_type": "code",
      "source": [
        "df_indoor_hour.to_csv('/content/drive/MyDrive/Colab Notebooks/fandp/clean_data/df_indoor_hour.csv')\n",
        "df_indoor_daily.to_csv('/content/drive/MyDrive/Colab Notebooks/fandp/clean_data/df_indoor_daily.csv')\n",
        "df_outdoor_hour.to_csv('/content/drive/MyDrive/Colab Notebooks/fandp/clean_data/df_outdoor_hour.csv')\n",
        "df_outdoor_daily.to_csv('/content/drive/MyDrive/Colab Notebooks/fandp/clean_data/df_outdoor_daily.csv')"
      ],
      "metadata": {
        "id": "rWzTNnj6XRZE"
      },
      "execution_count": 177,
      "outputs": []
    },
    {
      "cell_type": "code",
      "source": [],
      "metadata": {
        "id": "pUbi2UdlTQwQ"
      },
      "execution_count": null,
      "outputs": []
    }
  ]
}